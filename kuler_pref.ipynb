{
 "cells": [
  {
   "cell_type": "markdown",
   "metadata": {},
   "source": [
    "#Kuler Preference"
   ]
  },
  {
   "cell_type": "markdown",
   "metadata": {},
   "source": [
    "###Summary\n",
    "- 07/06/15\n",
    "    - We finally implement user preference in a clustering analysis (kmeans).\n",
    "    - Scale preference (normalize) -> come up with an integer for # of likes -> duplicate -> run kmeans"
   ]
  },
  {
   "cell_type": "markdown",
   "metadata": {},
   "source": [
    "##Import modules"
   ]
  },
  {
   "cell_type": "code",
   "execution_count": 6,
   "metadata": {
    "collapsed": true
   },
   "outputs": [],
   "source": [
    "import numpy as np\n",
    "import pandas as pd\n",
    "from pandas import Series,DataFrame\n",
    "import scipy as sp\n",
    "\n",
    "# plotting\n",
    "import matplotlib.pyplot as plt\n",
    "import matplotlib.cm as pltcm\n",
    "%matplotlib inline"
   ]
  },
  {
   "cell_type": "markdown",
   "metadata": {},
   "source": [
    "##Load dataframes and ndarrays"
   ]
  },
  {
   "cell_type": "code",
   "execution_count": 7,
   "metadata": {
    "collapsed": true
   },
   "outputs": [],
   "source": [
    "df = pd.read_pickle('kuler_df')\n",
    "df_ = pd.read_pickle('kuler_df_')\n",
    "df_all = pd.read_pickle('kuler_df_all')\n",
    "data_pair = np.load('kuler_data_pair.npy')\n",
    "data_LabAll = np.load('kuler_data_LabAll.npy')"
   ]
  },
  {
   "cell_type": "markdown",
   "metadata": {},
   "source": [
    "- Concatenate Likes to data_LabAll (df2)"
   ]
  },
  {
   "cell_type": "code",
   "execution_count": 114,
   "metadata": {
    "collapsed": false
   },
   "outputs": [],
   "source": [
    "df2 = DataFrame(data_LabAll)\n",
    "df2['Likes']=df.Likes"
   ]
  },
  {
   "cell_type": "markdown",
   "metadata": {},
   "source": [
    "##I. Feature scaling"
   ]
  },
  {
   "cell_type": "code",
   "execution_count": 115,
   "metadata": {
    "collapsed": false,
    "scrolled": true
   },
   "outputs": [
    {
     "data": {
      "text/plain": [
       "count     4931.000000\n",
       "mean       224.492801\n",
       "std        498.726783\n",
       "min         62.000000\n",
       "25%         78.000000\n",
       "50%        108.000000\n",
       "75%        188.000000\n",
       "max      13707.000000\n",
       "Name: Likes, dtype: float64"
      ]
     },
     "execution_count": 115,
     "metadata": {},
     "output_type": "execute_result"
    }
   ],
   "source": [
    "df.Likes.describe()"
   ]
  },
  {
   "cell_type": "markdown",
   "metadata": {},
   "source": [
    "- Problem: \"Likes\" has a very long tail and the range of number of Likes is large.\n",
    "- Possible solution: log transformation\n",
    "    - natural log -> normalize to make the smallest value 0 (# of duplicates) -> round up to convert float to int"
   ]
  },
  {
   "cell_type": "code",
   "execution_count": 169,
   "metadata": {
    "collapsed": false
   },
   "outputs": [],
   "source": [
    "# create a new column for log-normalized likes\n",
    "df2['Likes_norm'] = np.round(np.log(df2.Likes)-np.min(np.log(df2.Likes)))"
   ]
  },
  {
   "cell_type": "code",
   "execution_count": 170,
   "metadata": {
    "collapsed": false,
    "scrolled": true
   },
   "outputs": [
    {
     "data": {
      "text/plain": [
       "<matplotlib.axes._subplots.AxesSubplot at 0x10ef75ad0>"
      ]
     },
     "execution_count": 170,
     "metadata": {},
     "output_type": "execute_result"
    },
    {
     "data": {
      "image/png": "[encoded data removed]",
      "text/plain": [
       "<matplotlib.figure.Figure at 0x10ed80b10>"
      ]
     },
     "metadata": {},
     "output_type": "display_data"
    }
   ],
   "source": [
    "df2['Likes_norm'].hist()"
   ]
  },
  {
   "cell_type": "markdown",
   "metadata": {},
   "source": [
    "####Plan\n",
    "- loop over the rows with likes_norm > 0\n",
    "- for each row, generate a DataFrame ([array,]*n_duplicate)\n",
    "- concatenate (ignore_index=True)"
   ]
  },
  {
   "cell_type": "markdown",
   "metadata": {},
   "source": [
    "###1. Find the row numbers to loop for"
   ]
  },
  {
   "cell_type": "code",
   "execution_count": 247,
   "metadata": {
    "collapsed": false,
    "scrolled": true
   },
   "outputs": [],
   "source": [
    "# the data is already sorted by the number of likes\n",
    "# find the last row with non-zero norm-likes\n",
    "row_max = int(df2[df2.Likes_norm==1][-1:].index[0])"
   ]
  },
  {
   "cell_type": "markdown",
   "metadata": {},
   "source": [
    "###2. Create a duplicate DataFrame"
   ]
  },
  {
   "cell_type": "code",
   "execution_count": 248,
   "metadata": {
    "collapsed": false
   },
   "outputs": [],
   "source": [
    "# initialize\n",
    "df_dup = DataFrame()\n",
    "for i in range(row_max):\n",
    "    # number of duplicate copies\n",
    "    n_duplicate = df2.loc[i].Likes_norm\n",
    "    # create duplicates for the corresponding row\n",
    "    temp = DataFrame([df2.loc[i].values,]*n_duplicate)\n",
    "    # concatenate the duplicates\n",
    "    df_dup = pd.concat([df_dup,temp],ignore_index=True)"
   ]
  },
  {
   "cell_type": "markdown",
   "metadata": {},
   "source": [
    "###3. Concatenate with the parent (df2)"
   ]
  },
  {
   "cell_type": "code",
   "execution_count": 254,
   "metadata": {
    "collapsed": true
   },
   "outputs": [],
   "source": [
    "df3 = pd.concat([df2,df_dup],ignore_index=True)"
   ]
  }
 ],
 "metadata": {
  "kernelspec": {
   "display_name": "Python 2",
   "language": "python",
   "name": "python2"
  },
  "language_info": {
   "codemirror_mode": {
    "name": "ipython",
    "version": 2
   },
   "file_extension": ".py",
   "mimetype": "text/x-python",
   "name": "python",
   "nbconvert_exporter": "python",
   "pygments_lexer": "ipython2",
   "version": "2.7.10"
  }
 },
 "nbformat": 4,
 "nbformat_minor": 0
}
