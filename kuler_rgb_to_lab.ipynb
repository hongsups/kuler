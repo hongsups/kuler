{
 "cells": [
  {
   "cell_type": "markdown",
   "metadata": {},
   "source": [
    "#Kuler: From RGB to Lab\n",
    "The RGB color space is not a good representation of nonlinearity of color perception. A color space that is considered perceptually most uniform is CIELab (aka Lab) color space. In this space, each color is represented by three coordinates: L (brightness), a (red-greenness), and b(yellow-blueness). L ranges from 0 to 100. A higher L value means a color is brighter. The range of a and b depends on device, but normally it's [-128,128]. Positive values mean \"warm\" colors such as the more positive a (or b), the redder (or the more yellow) the color is.\n",
    "<p>\n",
    "Color conversion between different spaces is easily done by using Colormath package in Python. To convert colors into Lab coordinates, I first converted the hex code to the RGB code. Then I assumed the RGB code from the website is in sRGB space (\"standard\" RGB)."
   ]
  },
  {
   "cell_type": "code",
   "execution_count": 6,
   "metadata": {
    "collapsed": true
   },
   "outputs": [],
   "source": [
    "# Load modules and data\n",
    "import numpy as np\n",
    "import pandas as pd\n",
    "from pandas import Series,DataFrame\n",
    "import scipy as sp\n",
    "from colormath.color_objects import LabColor, sRGBColor # color format (sRGB, Lab)\n",
    "from colormath.color_conversions import convert_color\n",
    "df = pd.read_pickle('kuler_df')"
   ]
  },
  {
   "cell_type": "markdown",
   "metadata": {},
   "source": [
    "##I. Convert RGB to Lab"
   ]
  },
  {
   "cell_type": "markdown",
   "metadata": {},
   "source": [
    "###1. rgb2lab: RGB (list) -> Lab (colormath)"
   ]
  },
  {
   "cell_type": "code",
   "execution_count": 7,
   "metadata": {
    "collapsed": true
   },
   "outputs": [],
   "source": [
    "def rgb2lab(inputColor):\n",
    "    \"\"\"Takes a list of R,G,B value as an input and converts it to a Lab color (colormath format)\"\"\"\n",
    "    color_rgb = sRGBColor(inputColor[0],inputColor[1],inputColor[2],is_upscaled=True)\n",
    "    # if you want to use 0,255 range, upscaled=True (default is false)\n",
    "    color_lab = convert_color(color_rgb, LabColor)\n",
    "    return color_lab"
   ]
  },
  {
   "cell_type": "code",
   "execution_count": 8,
   "metadata": {
    "collapsed": false
   },
   "outputs": [
    {
     "data": {
      "text/plain": [
       "LabColor(lab_l=0.509833512052932,lab_a=-0.12241231401730057,lab_b=-0.47076345243975415)"
      ]
     },
     "execution_count": 8,
     "metadata": {},
     "output_type": "execute_result"
    }
   ],
   "source": [
    "# Example\n",
    "rgb2lab([1,2,3])"
   ]
  },
  {
   "cell_type": "code",
   "execution_count": 9,
   "metadata": {
    "collapsed": true
   },
   "outputs": [],
   "source": [
    "# Create a df for a summary version (has colors only)\n",
    "df_ = pd.DataFrame()\n",
    "for i in range(5):\n",
    "    df_['Lab'+str(i+1)]=df['c'+str(i+1)].apply((lambda x: rgb2lab(x)))    "
   ]
  },
  {
   "cell_type": "markdown",
   "metadata": {},
   "source": [
    "###2. get_Lab_value: Lab (colormath) -> L, a or b (float)"
   ]
  },
  {
   "cell_type": "code",
   "execution_count": 10,
   "metadata": {
    "collapsed": true
   },
   "outputs": [],
   "source": [
    "def get_Lab_value(LabColor,index):\n",
    "    \"\"\"Extract a L,a, or b value from Lab color (colormath format)\"\"\"\n",
    "    Lab = LabColor.get_value_tuple()[index] # extract specific value from the colormath format (tuple)\n",
    "    return Lab"
   ]
  },
  {
   "cell_type": "code",
   "execution_count": 15,
   "metadata": {
    "collapsed": false
   },
   "outputs": [
    {
     "name": "stdout",
     "output_type": "stream",
     "text": [
      "lab_l=0.509833512053\n",
      "lab_a=-0.122412314017\n",
      "lab_b=-0.47076345244\n"
     ]
    }
   ],
   "source": [
    "# Example: compare this with rgb2lab([1,2,3]) output\n",
    "print 'lab_l=' + str(get_Lab_value(rgb2lab([1,2,3]),0))\n",
    "print 'lab_a=' + str(get_Lab_value(rgb2lab([1,2,3]),1))\n",
    "print 'lab_b=' + str(get_Lab_value(rgb2lab([1,2,3]),2))"
   ]
  },
  {
   "cell_type": "code",
   "execution_count": 16,
   "metadata": {
    "collapsed": true
   },
   "outputs": [],
   "source": [
    "# Create separate columns for Lab coordinates per color\n",
    "for i in range(5):\n",
    "    df_['L'+str(i+1)]=df_['Lab'+str(i+1)].apply((lambda x: get_Lab_value(x,0)))\n",
    "    df_['a'+str(i+1)]=df_['Lab'+str(i+1)].apply((lambda x: get_Lab_value(x,1)))\n",
    "    df_['b'+str(i+1)]=df_['Lab'+str(i+1)].apply((lambda x: get_Lab_value(x,2)))"
   ]
  },
  {
   "cell_type": "code",
   "execution_count": 17,
   "metadata": {
    "collapsed": false,
    "scrolled": false
   },
   "outputs": [
    {
     "data": {
      "text/html": [
       "<div style=\"max-height:1000px;max-width:1500px;overflow:auto;\">\n",
       "<table border=\"1\" class=\"dataframe\">\n",
       "  <thead>\n",
       "    <tr style=\"text-align: right;\">\n",
       "      <th></th>\n",
       "      <th>Lab1</th>\n",
       "      <th>Lab2</th>\n",
       "      <th>Lab3</th>\n",
       "      <th>Lab4</th>\n",
       "      <th>Lab5</th>\n",
       "      <th>L1</th>\n",
       "      <th>a1</th>\n",
       "      <th>b1</th>\n",
       "      <th>L2</th>\n",
       "      <th>a2</th>\n",
       "      <th>b2</th>\n",
       "      <th>L3</th>\n",
       "      <th>a3</th>\n",
       "      <th>b3</th>\n",
       "      <th>L4</th>\n",
       "      <th>a4</th>\n",
       "      <th>b4</th>\n",
       "      <th>L5</th>\n",
       "      <th>a5</th>\n",
       "      <th>b5</th>\n",
       "    </tr>\n",
       "  </thead>\n",
       "  <tbody>\n",
       "    <tr>\n",
       "      <th>0</th>\n",
       "      <td>LabColor (lab_l:89.0695 lab_a:-6.6474 lab_b:25...</td>\n",
       "      <td>LabColor (lab_l:66.4561 lab_a:-4.7082 lab_b:19...</td>\n",
       "      <td>LabColor (lab_l:92.8418 lab_a:-4.5533 lab_b:16...</td>\n",
       "      <td>LabColor (lab_l:38.7377 lab_a:-13.1598 lab_b:-...</td>\n",
       "      <td>LabColor (lab_l:16.6902 lab_a:-14.6746 lab_b:-...</td>\n",
       "      <td>89.069487</td>\n",
       "      <td>-6.647432</td>\n",
       "      <td>25.488440</td>\n",
       "      <td>66.456120</td>\n",
       "      <td>-4.708159</td>\n",
       "      <td>19.791822</td>\n",
       "      <td>92.841824</td>\n",
       "      <td>-4.553276</td>\n",
       "      <td>16.870606</td>\n",
       "      <td>38.737716</td>\n",
       "      <td>-13.159783</td>\n",
       "      <td>-22.994372</td>\n",
       "      <td>16.690247</td>\n",
       "      <td>-14.674573</td>\n",
       "      <td>-4.314988</td>\n",
       "    </tr>\n",
       "    <tr>\n",
       "      <th>1</th>\n",
       "      <td>LabColor (lab_l:52.0084 lab_a:-29.9085 lab_b:1...</td>\n",
       "      <td>LabColor (lab_l:94.4397 lab_a:-5.5449 lab_b:38...</td>\n",
       "      <td>LabColor (lab_l:77.6561 lab_a:19.3233 lab_b:67...</td>\n",
       "      <td>LabColor (lab_l:45.4314 lab_a:42.3195 lab_b:42...</td>\n",
       "      <td>LabColor (lab_l:32.4134 lab_a:41.5589 lab_b:44...</td>\n",
       "      <td>52.008432</td>\n",
       "      <td>-29.908512</td>\n",
       "      <td>12.316387</td>\n",
       "      <td>94.439699</td>\n",
       "      <td>-5.544871</td>\n",
       "      <td>38.112912</td>\n",
       "      <td>77.656126</td>\n",
       "      <td>19.323349</td>\n",
       "      <td>67.586364</td>\n",
       "      <td>45.431402</td>\n",
       "      <td>42.319465</td>\n",
       "      <td>42.079384</td>\n",
       "      <td>32.413371</td>\n",
       "      <td>41.558880</td>\n",
       "      <td>44.787768</td>\n",
       "    </tr>\n",
       "    <tr>\n",
       "      <th>2</th>\n",
       "      <td>LabColor (lab_l:99.5372 lab_a:-2.7206 lab_b:4....</td>\n",
       "      <td>LabColor (lab_l:85.9526 lab_a:-8.6124 lab_b:13...</td>\n",
       "      <td>LabColor (lab_l:67.4290 lab_a:-11.2795 lab_b:3...</td>\n",
       "      <td>LabColor (lab_l:38.7897 lab_a:-7.9452 lab_b:-1...</td>\n",
       "      <td>LabColor (lab_l:20.2198 lab_a:-5.7987 lab_b:-1...</td>\n",
       "      <td>99.537232</td>\n",
       "      <td>-2.720550</td>\n",
       "      <td>4.416912</td>\n",
       "      <td>85.952582</td>\n",
       "      <td>-8.612370</td>\n",
       "      <td>13.614931</td>\n",
       "      <td>67.428997</td>\n",
       "      <td>-11.279473</td>\n",
       "      <td>3.796465</td>\n",
       "      <td>38.789667</td>\n",
       "      <td>-7.945213</td>\n",
       "      <td>-12.368756</td>\n",
       "      <td>20.219828</td>\n",
       "      <td>-5.798749</td>\n",
       "      <td>-11.268986</td>\n",
       "    </tr>\n",
       "    <tr>\n",
       "      <th>3</th>\n",
       "      <td>LabColor (lab_l:61.7404 lab_a:58.1302 lab_b:53...</td>\n",
       "      <td>LabColor (lab_l:98.1196 lab_a:-13.8177 lab_b:4...</td>\n",
       "      <td>LabColor (lab_l:88.3837 lab_a:-27.7910 lab_b:3...</td>\n",
       "      <td>LabColor (lab_l:71.1745 lab_a:-31.4338 lab_b:1...</td>\n",
       "      <td>LabColor (lab_l:59.8617 lab_a:-42.3281 lab_b:3...</td>\n",
       "      <td>61.740369</td>\n",
       "      <td>58.130239</td>\n",
       "      <td>53.472005</td>\n",
       "      <td>98.119573</td>\n",
       "      <td>-13.817677</td>\n",
       "      <td>46.798128</td>\n",
       "      <td>88.383724</td>\n",
       "      <td>-27.790981</td>\n",
       "      <td>32.276771</td>\n",
       "      <td>71.174490</td>\n",
       "      <td>-31.433780</td>\n",
       "      <td>16.582808</td>\n",
       "      <td>59.861686</td>\n",
       "      <td>-42.328110</td>\n",
       "      <td>3.968937</td>\n",
       "    </tr>\n",
       "    <tr>\n",
       "      <th>4</th>\n",
       "      <td>LabColor (lab_l:34.9884 lab_a:-18.4360 lab_b:-...</td>\n",
       "      <td>LabColor (lab_l:97.8074 lab_a:-4.2721 lab_b:18...</td>\n",
       "      <td>LabColor (lab_l:86.2067 lab_a:2.0163 lab_b:68....</td>\n",
       "      <td>LabColor (lab_l:69.3144 lab_a:13.4266 lab_b:60...</td>\n",
       "      <td>LabColor (lab_l:46.7331 lab_a:45.3888 lab_b:37...</td>\n",
       "      <td>34.988404</td>\n",
       "      <td>-18.435996</td>\n",
       "      <td>-10.862802</td>\n",
       "      <td>97.807379</td>\n",
       "      <td>-4.272050</td>\n",
       "      <td>18.366629</td>\n",
       "      <td>86.206740</td>\n",
       "      <td>2.016274</td>\n",
       "      <td>68.654114</td>\n",
       "      <td>69.314413</td>\n",
       "      <td>13.426557</td>\n",
       "      <td>60.131030</td>\n",
       "      <td>46.733104</td>\n",
       "      <td>45.388782</td>\n",
       "      <td>37.462243</td>\n",
       "    </tr>\n",
       "  </tbody>\n",
       "</table>\n",
       "</div>"
      ],
      "text/plain": [
       "                                                Lab1  \\\n",
       "0  LabColor (lab_l:89.0695 lab_a:-6.6474 lab_b:25...   \n",
       "1  LabColor (lab_l:52.0084 lab_a:-29.9085 lab_b:1...   \n",
       "2  LabColor (lab_l:99.5372 lab_a:-2.7206 lab_b:4....   \n",
       "3  LabColor (lab_l:61.7404 lab_a:58.1302 lab_b:53...   \n",
       "4  LabColor (lab_l:34.9884 lab_a:-18.4360 lab_b:-...   \n",
       "\n",
       "                                                Lab2  \\\n",
       "0  LabColor (lab_l:66.4561 lab_a:-4.7082 lab_b:19...   \n",
       "1  LabColor (lab_l:94.4397 lab_a:-5.5449 lab_b:38...   \n",
       "2  LabColor (lab_l:85.9526 lab_a:-8.6124 lab_b:13...   \n",
       "3  LabColor (lab_l:98.1196 lab_a:-13.8177 lab_b:4...   \n",
       "4  LabColor (lab_l:97.8074 lab_a:-4.2721 lab_b:18...   \n",
       "\n",
       "                                                Lab3  \\\n",
       "0  LabColor (lab_l:92.8418 lab_a:-4.5533 lab_b:16...   \n",
       "1  LabColor (lab_l:77.6561 lab_a:19.3233 lab_b:67...   \n",
       "2  LabColor (lab_l:67.4290 lab_a:-11.2795 lab_b:3...   \n",
       "3  LabColor (lab_l:88.3837 lab_a:-27.7910 lab_b:3...   \n",
       "4  LabColor (lab_l:86.2067 lab_a:2.0163 lab_b:68....   \n",
       "\n",
       "                                                Lab4  \\\n",
       "0  LabColor (lab_l:38.7377 lab_a:-13.1598 lab_b:-...   \n",
       "1  LabColor (lab_l:45.4314 lab_a:42.3195 lab_b:42...   \n",
       "2  LabColor (lab_l:38.7897 lab_a:-7.9452 lab_b:-1...   \n",
       "3  LabColor (lab_l:71.1745 lab_a:-31.4338 lab_b:1...   \n",
       "4  LabColor (lab_l:69.3144 lab_a:13.4266 lab_b:60...   \n",
       "\n",
       "                                                Lab5         L1         a1  \\\n",
       "0  LabColor (lab_l:16.6902 lab_a:-14.6746 lab_b:-...  89.069487  -6.647432   \n",
       "1  LabColor (lab_l:32.4134 lab_a:41.5589 lab_b:44...  52.008432 -29.908512   \n",
       "2  LabColor (lab_l:20.2198 lab_a:-5.7987 lab_b:-1...  99.537232  -2.720550   \n",
       "3  LabColor (lab_l:59.8617 lab_a:-42.3281 lab_b:3...  61.740369  58.130239   \n",
       "4  LabColor (lab_l:46.7331 lab_a:45.3888 lab_b:37...  34.988404 -18.435996   \n",
       "\n",
       "          b1         L2         a2         b2         L3         a3  \\\n",
       "0  25.488440  66.456120  -4.708159  19.791822  92.841824  -4.553276   \n",
       "1  12.316387  94.439699  -5.544871  38.112912  77.656126  19.323349   \n",
       "2   4.416912  85.952582  -8.612370  13.614931  67.428997 -11.279473   \n",
       "3  53.472005  98.119573 -13.817677  46.798128  88.383724 -27.790981   \n",
       "4 -10.862802  97.807379  -4.272050  18.366629  86.206740   2.016274   \n",
       "\n",
       "          b3         L4         a4         b4         L5         a5         b5  \n",
       "0  16.870606  38.737716 -13.159783 -22.994372  16.690247 -14.674573  -4.314988  \n",
       "1  67.586364  45.431402  42.319465  42.079384  32.413371  41.558880  44.787768  \n",
       "2   3.796465  38.789667  -7.945213 -12.368756  20.219828  -5.798749 -11.268986  \n",
       "3  32.276771  71.174490 -31.433780  16.582808  59.861686 -42.328110   3.968937  \n",
       "4  68.654114  69.314413  13.426557  60.131030  46.733104  45.388782  37.462243  "
      ]
     },
     "execution_count": 17,
     "metadata": {},
     "output_type": "execute_result"
    }
   ],
   "source": [
    "df_.head()"
   ]
  },
  {
   "cell_type": "markdown",
   "metadata": {},
   "source": [
    "##II. Save the data"
   ]
  },
  {
   "cell_type": "code",
   "execution_count": 42,
   "metadata": {
    "collapsed": false
   },
   "outputs": [
    {
     "data": {
      "text/html": [
       "<div style=\"max-height:1000px;max-width:1500px;overflow:auto;\">\n",
       "<table border=\"1\" class=\"dataframe\">\n",
       "  <thead>\n",
       "    <tr style=\"text-align: right;\">\n",
       "      <th></th>\n",
       "      <th>Lab1</th>\n",
       "      <th>Lab2</th>\n",
       "      <th>Lab3</th>\n",
       "      <th>Lab4</th>\n",
       "      <th>Lab5</th>\n",
       "      <th>L1</th>\n",
       "      <th>a1</th>\n",
       "      <th>b1</th>\n",
       "      <th>L2</th>\n",
       "      <th>a2</th>\n",
       "      <th>b2</th>\n",
       "      <th>L3</th>\n",
       "      <th>a3</th>\n",
       "      <th>b3</th>\n",
       "      <th>L4</th>\n",
       "      <th>a4</th>\n",
       "      <th>b4</th>\n",
       "      <th>L5</th>\n",
       "      <th>a5</th>\n",
       "      <th>b5</th>\n",
       "    </tr>\n",
       "  </thead>\n",
       "  <tbody>\n",
       "    <tr>\n",
       "      <th>0</th>\n",
       "      <td>LabColor (lab_l:89.0695 lab_a:-6.6474 lab_b:25...</td>\n",
       "      <td>LabColor (lab_l:66.4561 lab_a:-4.7082 lab_b:19...</td>\n",
       "      <td>LabColor (lab_l:92.8418 lab_a:-4.5533 lab_b:16...</td>\n",
       "      <td>LabColor (lab_l:38.7377 lab_a:-13.1598 lab_b:-...</td>\n",
       "      <td>LabColor (lab_l:16.6902 lab_a:-14.6746 lab_b:-...</td>\n",
       "      <td>89.069487</td>\n",
       "      <td>-6.647432</td>\n",
       "      <td>25.488440</td>\n",
       "      <td>66.456120</td>\n",
       "      <td>-4.708159</td>\n",
       "      <td>19.791822</td>\n",
       "      <td>92.841824</td>\n",
       "      <td>-4.553276</td>\n",
       "      <td>16.870606</td>\n",
       "      <td>38.737716</td>\n",
       "      <td>-13.159783</td>\n",
       "      <td>-22.994372</td>\n",
       "      <td>16.690247</td>\n",
       "      <td>-14.674573</td>\n",
       "      <td>-4.314988</td>\n",
       "    </tr>\n",
       "    <tr>\n",
       "      <th>1</th>\n",
       "      <td>LabColor (lab_l:52.0084 lab_a:-29.9085 lab_b:1...</td>\n",
       "      <td>LabColor (lab_l:94.4397 lab_a:-5.5449 lab_b:38...</td>\n",
       "      <td>LabColor (lab_l:77.6561 lab_a:19.3233 lab_b:67...</td>\n",
       "      <td>LabColor (lab_l:45.4314 lab_a:42.3195 lab_b:42...</td>\n",
       "      <td>LabColor (lab_l:32.4134 lab_a:41.5589 lab_b:44...</td>\n",
       "      <td>52.008432</td>\n",
       "      <td>-29.908512</td>\n",
       "      <td>12.316387</td>\n",
       "      <td>94.439699</td>\n",
       "      <td>-5.544871</td>\n",
       "      <td>38.112912</td>\n",
       "      <td>77.656126</td>\n",
       "      <td>19.323349</td>\n",
       "      <td>67.586364</td>\n",
       "      <td>45.431402</td>\n",
       "      <td>42.319465</td>\n",
       "      <td>42.079384</td>\n",
       "      <td>32.413371</td>\n",
       "      <td>41.558880</td>\n",
       "      <td>44.787768</td>\n",
       "    </tr>\n",
       "    <tr>\n",
       "      <th>2</th>\n",
       "      <td>LabColor (lab_l:99.5372 lab_a:-2.7206 lab_b:4....</td>\n",
       "      <td>LabColor (lab_l:85.9526 lab_a:-8.6124 lab_b:13...</td>\n",
       "      <td>LabColor (lab_l:67.4290 lab_a:-11.2795 lab_b:3...</td>\n",
       "      <td>LabColor (lab_l:38.7897 lab_a:-7.9452 lab_b:-1...</td>\n",
       "      <td>LabColor (lab_l:20.2198 lab_a:-5.7987 lab_b:-1...</td>\n",
       "      <td>99.537232</td>\n",
       "      <td>-2.720550</td>\n",
       "      <td>4.416912</td>\n",
       "      <td>85.952582</td>\n",
       "      <td>-8.612370</td>\n",
       "      <td>13.614931</td>\n",
       "      <td>67.428997</td>\n",
       "      <td>-11.279473</td>\n",
       "      <td>3.796465</td>\n",
       "      <td>38.789667</td>\n",
       "      <td>-7.945213</td>\n",
       "      <td>-12.368756</td>\n",
       "      <td>20.219828</td>\n",
       "      <td>-5.798749</td>\n",
       "      <td>-11.268986</td>\n",
       "    </tr>\n",
       "    <tr>\n",
       "      <th>3</th>\n",
       "      <td>LabColor (lab_l:61.7404 lab_a:58.1302 lab_b:53...</td>\n",
       "      <td>LabColor (lab_l:98.1196 lab_a:-13.8177 lab_b:4...</td>\n",
       "      <td>LabColor (lab_l:88.3837 lab_a:-27.7910 lab_b:3...</td>\n",
       "      <td>LabColor (lab_l:71.1745 lab_a:-31.4338 lab_b:1...</td>\n",
       "      <td>LabColor (lab_l:59.8617 lab_a:-42.3281 lab_b:3...</td>\n",
       "      <td>61.740369</td>\n",
       "      <td>58.130239</td>\n",
       "      <td>53.472005</td>\n",
       "      <td>98.119573</td>\n",
       "      <td>-13.817677</td>\n",
       "      <td>46.798128</td>\n",
       "      <td>88.383724</td>\n",
       "      <td>-27.790981</td>\n",
       "      <td>32.276771</td>\n",
       "      <td>71.174490</td>\n",
       "      <td>-31.433780</td>\n",
       "      <td>16.582808</td>\n",
       "      <td>59.861686</td>\n",
       "      <td>-42.328110</td>\n",
       "      <td>3.968937</td>\n",
       "    </tr>\n",
       "    <tr>\n",
       "      <th>4</th>\n",
       "      <td>LabColor (lab_l:34.9884 lab_a:-18.4360 lab_b:-...</td>\n",
       "      <td>LabColor (lab_l:97.8074 lab_a:-4.2721 lab_b:18...</td>\n",
       "      <td>LabColor (lab_l:86.2067 lab_a:2.0163 lab_b:68....</td>\n",
       "      <td>LabColor (lab_l:69.3144 lab_a:13.4266 lab_b:60...</td>\n",
       "      <td>LabColor (lab_l:46.7331 lab_a:45.3888 lab_b:37...</td>\n",
       "      <td>34.988404</td>\n",
       "      <td>-18.435996</td>\n",
       "      <td>-10.862802</td>\n",
       "      <td>97.807379</td>\n",
       "      <td>-4.272050</td>\n",
       "      <td>18.366629</td>\n",
       "      <td>86.206740</td>\n",
       "      <td>2.016274</td>\n",
       "      <td>68.654114</td>\n",
       "      <td>69.314413</td>\n",
       "      <td>13.426557</td>\n",
       "      <td>60.131030</td>\n",
       "      <td>46.733104</td>\n",
       "      <td>45.388782</td>\n",
       "      <td>37.462243</td>\n",
       "    </tr>\n",
       "  </tbody>\n",
       "</table>\n",
       "</div>"
      ],
      "text/plain": [
       "                                                Lab1  \\\n",
       "0  LabColor (lab_l:89.0695 lab_a:-6.6474 lab_b:25...   \n",
       "1  LabColor (lab_l:52.0084 lab_a:-29.9085 lab_b:1...   \n",
       "2  LabColor (lab_l:99.5372 lab_a:-2.7206 lab_b:4....   \n",
       "3  LabColor (lab_l:61.7404 lab_a:58.1302 lab_b:53...   \n",
       "4  LabColor (lab_l:34.9884 lab_a:-18.4360 lab_b:-...   \n",
       "\n",
       "                                                Lab2  \\\n",
       "0  LabColor (lab_l:66.4561 lab_a:-4.7082 lab_b:19...   \n",
       "1  LabColor (lab_l:94.4397 lab_a:-5.5449 lab_b:38...   \n",
       "2  LabColor (lab_l:85.9526 lab_a:-8.6124 lab_b:13...   \n",
       "3  LabColor (lab_l:98.1196 lab_a:-13.8177 lab_b:4...   \n",
       "4  LabColor (lab_l:97.8074 lab_a:-4.2721 lab_b:18...   \n",
       "\n",
       "                                                Lab3  \\\n",
       "0  LabColor (lab_l:92.8418 lab_a:-4.5533 lab_b:16...   \n",
       "1  LabColor (lab_l:77.6561 lab_a:19.3233 lab_b:67...   \n",
       "2  LabColor (lab_l:67.4290 lab_a:-11.2795 lab_b:3...   \n",
       "3  LabColor (lab_l:88.3837 lab_a:-27.7910 lab_b:3...   \n",
       "4  LabColor (lab_l:86.2067 lab_a:2.0163 lab_b:68....   \n",
       "\n",
       "                                                Lab4  \\\n",
       "0  LabColor (lab_l:38.7377 lab_a:-13.1598 lab_b:-...   \n",
       "1  LabColor (lab_l:45.4314 lab_a:42.3195 lab_b:42...   \n",
       "2  LabColor (lab_l:38.7897 lab_a:-7.9452 lab_b:-1...   \n",
       "3  LabColor (lab_l:71.1745 lab_a:-31.4338 lab_b:1...   \n",
       "4  LabColor (lab_l:69.3144 lab_a:13.4266 lab_b:60...   \n",
       "\n",
       "                                                Lab5         L1         a1  \\\n",
       "0  LabColor (lab_l:16.6902 lab_a:-14.6746 lab_b:-...  89.069487  -6.647432   \n",
       "1  LabColor (lab_l:32.4134 lab_a:41.5589 lab_b:44...  52.008432 -29.908512   \n",
       "2  LabColor (lab_l:20.2198 lab_a:-5.7987 lab_b:-1...  99.537232  -2.720550   \n",
       "3  LabColor (lab_l:59.8617 lab_a:-42.3281 lab_b:3...  61.740369  58.130239   \n",
       "4  LabColor (lab_l:46.7331 lab_a:45.3888 lab_b:37...  34.988404 -18.435996   \n",
       "\n",
       "          b1         L2         a2         b2         L3         a3  \\\n",
       "0  25.488440  66.456120  -4.708159  19.791822  92.841824  -4.553276   \n",
       "1  12.316387  94.439699  -5.544871  38.112912  77.656126  19.323349   \n",
       "2   4.416912  85.952582  -8.612370  13.614931  67.428997 -11.279473   \n",
       "3  53.472005  98.119573 -13.817677  46.798128  88.383724 -27.790981   \n",
       "4 -10.862802  97.807379  -4.272050  18.366629  86.206740   2.016274   \n",
       "\n",
       "          b3         L4         a4         b4         L5         a5         b5  \n",
       "0  16.870606  38.737716 -13.159783 -22.994372  16.690247 -14.674573  -4.314988  \n",
       "1  67.586364  45.431402  42.319465  42.079384  32.413371  41.558880  44.787768  \n",
       "2   3.796465  38.789667  -7.945213 -12.368756  20.219828  -5.798749 -11.268986  \n",
       "3  32.276771  71.174490 -31.433780  16.582808  59.861686 -42.328110   3.968937  \n",
       "4  68.654114  69.314413  13.426557  60.131030  46.733104  45.388782  37.462243  "
      ]
     },
     "execution_count": 42,
     "metadata": {},
     "output_type": "execute_result"
    }
   ],
   "source": [
    "df_.head()"
   ]
  },
  {
   "cell_type": "code",
   "execution_count": 31,
   "metadata": {
    "collapsed": false
   },
   "outputs": [
    {
     "name": "stdout",
     "output_type": "stream",
     "text": [
      "Lab1    LabColor (lab_l:25.4417 lab_a:-1.7330 lab_b:-1...\n",
      "Lab2    LabColor (lab_l:71.7814 lab_a:22.1303 lab_b:76...\n",
      "Lab3    LabColor (lab_l:21.2467 lab_a:-0.0001 lab_b:-0...\n",
      "Lab4    LabColor (lab_l:67.5682 lab_a:2.0578 lab_b:22....\n",
      "Lab5    LabColor (lab_l:16.6902 lab_a:-14.6746 lab_b:-...\n",
      "L1                                                      0\n",
      "a1                                              -81.29288\n",
      "b1                                              -98.36256\n",
      "L2                                                      0\n",
      "a2                                              -86.18295\n",
      "b2                                              -89.32307\n",
      "L3                                                      0\n",
      "a3                                              -85.55888\n",
      "b3                                              -90.93178\n",
      "L4                                                      0\n",
      "a4                                               -85.0927\n",
      "b4                                              -107.6705\n",
      "L5                                                      0\n",
      "a5                                              -86.12751\n",
      "b5                                              -107.6705\n",
      "dtype: object\n",
      "Lab1    LabColor (lab_l:83.5128 lab_a:-7.0765 lab_b:2....\n",
      "Lab2    LabColor (lab_l:55.7975 lab_a:-37.4229 lab_b:3...\n",
      "Lab3    LabColor (lab_l:66.0408 lab_a:-12.8965 lab_b:5...\n",
      "Lab4    LabColor (lab_l:69.7080 lab_a:-34.6685 lab_b:2...\n",
      "Lab5    LabColor (lab_l:47.6044 lab_a:7.8672 lab_b:27....\n",
      "L1                                               99.99998\n",
      "a1                                               88.89334\n",
      "b1                                               94.09835\n",
      "L2                                               99.99998\n",
      "a2                                               93.25915\n",
      "b2                                               93.53188\n",
      "L3                                               99.99998\n",
      "a3                                               98.23532\n",
      "b3                                               94.47732\n",
      "L4                                               99.99998\n",
      "a4                                               84.75338\n",
      "b4                                               94.28771\n",
      "L5                                               99.99998\n",
      "a5                                               90.08535\n",
      "b5                                               94.47732\n",
      "dtype: object\n"
     ]
    }
   ],
   "source": [
    "# Sanity check: L, a, and b values are all within the right range.\n",
    "print df_.min()\n",
    "print df_.max()"
   ]
  },
  {
   "cell_type": "code",
   "execution_count": null,
   "metadata": {
    "collapsed": true
   },
   "outputs": [],
   "source": [
    "# Save the data as 'kuler_df_'\n",
    "df_.to_pickle('kuler_df_')"
   ]
  }
 ],
 "metadata": {
  "kernelspec": {
   "display_name": "Python 2",
   "language": "python",
   "name": "python2"
  },
  "language_info": {
   "codemirror_mode": {
    "name": "ipython",
    "version": 2
   },
   "file_extension": ".py",
   "mimetype": "text/x-python",
   "name": "python",
   "nbconvert_exporter": "python",
   "pygments_lexer": "ipython2",
   "version": "2.7.10"
  }
 },
 "nbformat": 4,
 "nbformat_minor": 0
}
