{
 "cells": [
  {
   "cell_type": "markdown",
   "metadata": {},
   "source": [
    "#Kuler: Cleaning the data"
   ]
  },
  {
   "cell_type": "markdown",
   "metadata": {},
   "source": [
    "After scraping the JSON response, here I clean and parse the data using pandas. First, I import JSON response as a df format using read_json in pandas. Then, I drop some data columns that I will not use for now for simplicity.\n",
    "\n",
    "\n",
    "Here's the key values from the raw data:\n",
    "<p>\n",
    "- author: author Id and name\n",
    "- comment: number of comments\n",
    "- createAt: date created\n",
    "- tags: text description of the theme\n",
    "- description\n",
    "- harmony: information about creating process of the theme (e.g., rule)\n",
    "- href: url\n",
    "- originalTheme: if the theme is created based on an already-existing theme, its value is the id of that parent theme\n",
    "- access\n",
    "- like: number of likes\n",
    "- view: number of views\n",
    "- rating: review count and average rating\n",
    "- iccProfiles: ?\n",
    "- swatches: color information in RGB, hex, and colorIndex (?)\n",
    "- name: name of the theme\n",
    "- id: theme id\n",
    "- editedAt: latest date edited \n",
    "<p>"
   ]
  },
  {
   "cell_type": "code",
   "execution_count": 1,
   "metadata": {
    "collapsed": true
   },
   "outputs": [],
   "source": [
    "import numpy as np\n",
    "import pandas as pd\n",
    "from pandas import Series,DataFrame\n",
    "import scipy as sp\n",
    "\n",
    "# plotting\n",
    "import matplotlib.pyplot as plt\n",
    "import matplotlib.cm as pltcm\n",
    "%matplotlib inline"
   ]
  },
  {
   "cell_type": "markdown",
   "metadata": {},
   "source": [
    "##I. Import the json response using read_json"
   ]
  },
  {
   "cell_type": "code",
   "execution_count": 2,
   "metadata": {
    "collapsed": false,
    "scrolled": true
   },
   "outputs": [
    {
     "data": {
      "text/html": [
       "<div style=\"max-height:1000px;max-width:1500px;overflow:auto;\">\n",
       "<table border=\"1\" class=\"dataframe\">\n",
       "  <thead>\n",
       "    <tr style=\"text-align: right;\">\n",
       "      <th></th>\n",
       "      <th>access</th>\n",
       "      <th>author</th>\n",
       "      <th>comment</th>\n",
       "      <th>createdAt</th>\n",
       "      <th>description</th>\n",
       "      <th>editedAt</th>\n",
       "      <th>harmony</th>\n",
       "      <th>href</th>\n",
       "      <th>iccProfile</th>\n",
       "      <th>id</th>\n",
       "      <th>like</th>\n",
       "      <th>name</th>\n",
       "      <th>originalTheme</th>\n",
       "      <th>rating</th>\n",
       "      <th>swatches</th>\n",
       "      <th>tags</th>\n",
       "      <th>view</th>\n",
       "    </tr>\n",
       "  </thead>\n",
       "  <tbody>\n",
       "    <tr>\n",
       "      <th>0</th>\n",
       "      <td>{u'visibility': u'public'}</td>\n",
       "      <td>{u'id': u'17923', u'name': u'ps'}</td>\n",
       "      <td>{u'count': 339}</td>\n",
       "      <td>2007-01-18T08:51:12+00:00</td>\n",
       "      <td></td>\n",
       "      <td>2014-12-16T05:24:50+00:00</td>\n",
       "      <td>{u'baseSwatchIndex': 0, u'sourceURL': u'', u'm...</td>\n",
       "      <td>http://adobe.ly/1BOf1GL</td>\n",
       "      <td></td>\n",
       "      <td>15325</td>\n",
       "      <td>{u'count': 13707}</td>\n",
       "      <td>sandy stone beach ocean diver</td>\n",
       "      <td>0</td>\n",
       "      <td>{u'count': 1755, u'overall': 3.9}</td>\n",
       "      <td>[{u'hex': u'E6E2AF', u'colorIndex': 598, u'val...</td>\n",
       "      <td>[{u'value': u'beach'}, {u'value': u'diver'}, {...</td>\n",
       "      <td>{u'count': 39612}</td>\n",
       "    </tr>\n",
       "    <tr>\n",
       "      <th>1</th>\n",
       "      <td>{u'visibility': u'public'}</td>\n",
       "      <td>{u'id': u'17772', u'name': u'matthepworth'}</td>\n",
       "      <td>{u'count': 186}</td>\n",
       "      <td>2007-03-01T00:42:36+00:00</td>\n",
       "      <td></td>\n",
       "      <td>2007-03-01T00:51:15+00:00</td>\n",
       "      <td>{u'baseSwatchIndex': 0, u'sourceURL': u'', u'm...</td>\n",
       "      <td>https://kuler.adobe.com/Firenze-color-theme-24...</td>\n",
       "      <td></td>\n",
       "      <td>24198</td>\n",
       "      <td>{u'count': 10737}</td>\n",
       "      <td>Firenze</td>\n",
       "      <td>0</td>\n",
       "      <td>{u'count': 1441, u'overall': 3.89}</td>\n",
       "      <td>[{u'hex': u'468966', u'colorIndex': 296, u'val...</td>\n",
       "      <td>[{u'value': u'bellagio'}, {u'value': u'boot'},...</td>\n",
       "      <td>{u'count': 28750}</td>\n",
       "    </tr>\n",
       "    <tr>\n",
       "      <th>2</th>\n",
       "      <td>{u'visibility': u'public'}</td>\n",
       "      <td>{u'id': u'17772', u'name': u'matthepworth'}</td>\n",
       "      <td>{u'count': 54}</td>\n",
       "      <td>2007-02-22T00:06:18+00:00</td>\n",
       "      <td></td>\n",
       "      <td>2007-02-22T00:06:18+00:00</td>\n",
       "      <td>{u'baseSwatchIndex': 0, u'sourceURL': u'', u'm...</td>\n",
       "      <td>https://kuler.adobe.com/Neutral-Blue-color-the...</td>\n",
       "      <td></td>\n",
       "      <td>22361</td>\n",
       "      <td>{u'count': 8993}</td>\n",
       "      <td>Neutral Blue</td>\n",
       "      <td>0</td>\n",
       "      <td>{u'count': 556, u'overall': 3.78}</td>\n",
       "      <td>[{u'hex': u'FCFFF5', u'colorIndex': 1558, u'va...</td>\n",
       "      <td>[{u'value': u'adult'}, {u'value': u'azure'}, {...</td>\n",
       "      <td>{u'count': 18051}</td>\n",
       "    </tr>\n",
       "    <tr>\n",
       "      <th>3</th>\n",
       "      <td>{u'visibility': u'public'}</td>\n",
       "      <td>{u'id': u'243670', u'name': u'rockstarflu'}</td>\n",
       "      <td>{u'count': 18}</td>\n",
       "      <td>2012-02-14T16:36:28+00:00</td>\n",
       "      <td></td>\n",
       "      <td>2012-02-14T16:36:28+00:00</td>\n",
       "      <td>{u'baseSwatchIndex': 1, u'sourceURL': u'', u'm...</td>\n",
       "      <td>https://kuler.adobe.com/Phaedra-color-theme-17...</td>\n",
       "      <td></td>\n",
       "      <td>1764754</td>\n",
       "      <td>{u'count': 7108}</td>\n",
       "      <td>Phaedra</td>\n",
       "      <td>0</td>\n",
       "      <td>{u'count': 149, u'overall': 4.06}</td>\n",
       "      <td>[{u'hex': u'FF6138', u'colorIndex': 1884, u'va...</td>\n",
       "      <td>[]</td>\n",
       "      <td>{u'count': 10185}</td>\n",
       "    </tr>\n",
       "    <tr>\n",
       "      <th>4</th>\n",
       "      <td>{u'visibility': u'public'}</td>\n",
       "      <td>{u'id': u'422481', u'name': u'dezi9er'}</td>\n",
       "      <td>{u'count': 50}</td>\n",
       "      <td>2011-09-03T16:14:04+00:00</td>\n",
       "      <td></td>\n",
       "      <td>2011-09-03T16:14:04+00:00</td>\n",
       "      <td>{u'baseSwatchIndex': 2, u'sourceURL': u'', u'm...</td>\n",
       "      <td>https://kuler.adobe.com/Honey-Pot-color-theme-...</td>\n",
       "      <td></td>\n",
       "      <td>1490158</td>\n",
       "      <td>{u'count': 6352}</td>\n",
       "      <td>Honey Pot</td>\n",
       "      <td>0</td>\n",
       "      <td>{u'count': 261, u'overall': 4.09}</td>\n",
       "      <td>[{u'hex': u'105B63', u'colorIndex': 781, u'val...</td>\n",
       "      <td>[{u'value': u'bee'}, {u'value': u'bottle'}, {u...</td>\n",
       "      <td>{u'count': 9708}</td>\n",
       "    </tr>\n",
       "  </tbody>\n",
       "</table>\n",
       "</div>"
      ],
      "text/plain": [
       "                       access                                       author  \\\n",
       "0  {u'visibility': u'public'}            {u'id': u'17923', u'name': u'ps'}   \n",
       "1  {u'visibility': u'public'}  {u'id': u'17772', u'name': u'matthepworth'}   \n",
       "2  {u'visibility': u'public'}  {u'id': u'17772', u'name': u'matthepworth'}   \n",
       "3  {u'visibility': u'public'}  {u'id': u'243670', u'name': u'rockstarflu'}   \n",
       "4  {u'visibility': u'public'}      {u'id': u'422481', u'name': u'dezi9er'}   \n",
       "\n",
       "           comment                  createdAt description  \\\n",
       "0  {u'count': 339}  2007-01-18T08:51:12+00:00               \n",
       "1  {u'count': 186}  2007-03-01T00:42:36+00:00               \n",
       "2   {u'count': 54}  2007-02-22T00:06:18+00:00               \n",
       "3   {u'count': 18}  2012-02-14T16:36:28+00:00               \n",
       "4   {u'count': 50}  2011-09-03T16:14:04+00:00               \n",
       "\n",
       "                    editedAt  \\\n",
       "0  2014-12-16T05:24:50+00:00   \n",
       "1  2007-03-01T00:51:15+00:00   \n",
       "2  2007-02-22T00:06:18+00:00   \n",
       "3  2012-02-14T16:36:28+00:00   \n",
       "4  2011-09-03T16:14:04+00:00   \n",
       "\n",
       "                                             harmony  \\\n",
       "0  {u'baseSwatchIndex': 0, u'sourceURL': u'', u'm...   \n",
       "1  {u'baseSwatchIndex': 0, u'sourceURL': u'', u'm...   \n",
       "2  {u'baseSwatchIndex': 0, u'sourceURL': u'', u'm...   \n",
       "3  {u'baseSwatchIndex': 1, u'sourceURL': u'', u'm...   \n",
       "4  {u'baseSwatchIndex': 2, u'sourceURL': u'', u'm...   \n",
       "\n",
       "                                                href iccProfile       id  \\\n",
       "0                            http://adobe.ly/1BOf1GL               15325   \n",
       "1  https://kuler.adobe.com/Firenze-color-theme-24...               24198   \n",
       "2  https://kuler.adobe.com/Neutral-Blue-color-the...               22361   \n",
       "3  https://kuler.adobe.com/Phaedra-color-theme-17...             1764754   \n",
       "4  https://kuler.adobe.com/Honey-Pot-color-theme-...             1490158   \n",
       "\n",
       "                like                           name  originalTheme  \\\n",
       "0  {u'count': 13707}  sandy stone beach ocean diver              0   \n",
       "1  {u'count': 10737}                        Firenze              0   \n",
       "2   {u'count': 8993}                   Neutral Blue              0   \n",
       "3   {u'count': 7108}                        Phaedra              0   \n",
       "4   {u'count': 6352}                      Honey Pot              0   \n",
       "\n",
       "                               rating  \\\n",
       "0   {u'count': 1755, u'overall': 3.9}   \n",
       "1  {u'count': 1441, u'overall': 3.89}   \n",
       "2   {u'count': 556, u'overall': 3.78}   \n",
       "3   {u'count': 149, u'overall': 4.06}   \n",
       "4   {u'count': 261, u'overall': 4.09}   \n",
       "\n",
       "                                            swatches  \\\n",
       "0  [{u'hex': u'E6E2AF', u'colorIndex': 598, u'val...   \n",
       "1  [{u'hex': u'468966', u'colorIndex': 296, u'val...   \n",
       "2  [{u'hex': u'FCFFF5', u'colorIndex': 1558, u'va...   \n",
       "3  [{u'hex': u'FF6138', u'colorIndex': 1884, u'va...   \n",
       "4  [{u'hex': u'105B63', u'colorIndex': 781, u'val...   \n",
       "\n",
       "                                                tags               view  \n",
       "0  [{u'value': u'beach'}, {u'value': u'diver'}, {...  {u'count': 39612}  \n",
       "1  [{u'value': u'bellagio'}, {u'value': u'boot'},...  {u'count': 28750}  \n",
       "2  [{u'value': u'adult'}, {u'value': u'azure'}, {...  {u'count': 18051}  \n",
       "3                                                 []  {u'count': 10185}  \n",
       "4  [{u'value': u'bee'}, {u'value': u'bottle'}, {u...   {u'count': 9708}  "
      ]
     },
     "execution_count": 2,
     "metadata": {},
     "output_type": "execute_result"
    }
   ],
   "source": [
    "# read_json: convert json into dataframe\n",
    "df = pd.read_json('kuler_data_new.txt')\n",
    "df.head()"
   ]
  },
  {
   "cell_type": "markdown",
   "metadata": {},
   "source": [
    "##II. Clean data"
   ]
  },
  {
   "cell_type": "code",
   "execution_count": 3,
   "metadata": {
    "collapsed": true
   },
   "outputs": [],
   "source": [
    "# drop the columns that I am not going to use for now\n",
    "df = df.drop('access', 1)\n",
    "df = df.drop('description', 1)\n",
    "df = df.drop('harmony', 1)\n",
    "df = df.drop('iccProfile', 1)\n",
    "df = df.drop('originalTheme', 1)\n",
    "df = df.drop('editedAt', 1)\n",
    "df = df.drop('href', 1)"
   ]
  },
  {
   "cell_type": "code",
   "execution_count": 4,
   "metadata": {
    "collapsed": false
   },
   "outputs": [
    {
     "data": {
      "text/plain": [
       "author         mixed\n",
       "comment        mixed\n",
       "createdAt    unicode\n",
       "id           integer\n",
       "like           mixed\n",
       "name         unicode\n",
       "rating         mixed\n",
       "swatches       mixed\n",
       "tags           mixed\n",
       "view           mixed\n",
       "dtype: object"
      ]
     },
     "execution_count": 4,
     "metadata": {},
     "output_type": "execute_result"
    }
   ],
   "source": [
    "# tip: use apply and infer_dtype for checking dtypes\n",
    "df.apply(lambda x: pd.lib.infer_dtype(x.values))"
   ]
  },
  {
   "cell_type": "markdown",
   "metadata": {},
   "source": [
    "##III. Explore data formats"
   ]
  },
  {
   "cell_type": "markdown",
   "metadata": {},
   "source": [
    "###1. Time"
   ]
  },
  {
   "cell_type": "code",
   "execution_count": 5,
   "metadata": {
    "collapsed": false
   },
   "outputs": [
    {
     "name": "stdout",
     "output_type": "stream",
     "text": [
      "2007-01-18T08:51:12\n"
     ]
    },
    {
     "data": {
      "text/plain": [
       "datetime.datetime(2007, 1, 18, 8, 51, 12)"
      ]
     },
     "execution_count": 5,
     "metadata": {},
     "output_type": "execute_result"
    }
   ],
   "source": [
    "# import datetime\n",
    "from datetime import datetime\n",
    "df_time_example = df.createdAt[0]\n",
    "df_time_example = df_time_example[:-6] # I left out +00:00 part\n",
    "print df_time_example\n",
    "datetime.strptime(df_time_example, '%Y-%m-%dT%H:%M:%S')"
   ]
  },
  {
   "cell_type": "markdown",
   "metadata": {},
   "source": [
    "###2. Color"
   ]
  },
  {
   "cell_type": "code",
   "execution_count": 10,
   "metadata": {
    "collapsed": false
   },
   "outputs": [
    {
     "data": {
      "text/plain": [
       "[{u'colorIndex': 598,\n",
       "  u'hex': u'E6E2AF',\n",
       "  u'mode': u'rgb',\n",
       "  u'name': u'',\n",
       "  u'values': [0.901961, 0.8862749999999999, 0.686275]},\n",
       " {u'colorIndex': 1630,\n",
       "  u'hex': u'A7A37E',\n",
       "  u'mode': u'rgb',\n",
       "  u'name': u'',\n",
       "  u'values': [0.654902, 0.639216, 0.494118]},\n",
       " {u'colorIndex': 594,\n",
       "  u'hex': u'EFECCA',\n",
       "  u'mode': u'rgb',\n",
       "  u'name': u'',\n",
       "  u'values': [0.937255, 0.92549, 0.792157]},\n",
       " {u'colorIndex': 854,\n",
       "  u'hex': u'046380',\n",
       "  u'mode': u'rgb',\n",
       "  u'name': u'',\n",
       "  u'values': [0.0156863, 0.388235, 0.501961]},\n",
       " {u'colorIndex': 1544,\n",
       "  u'hex': u'002F2F',\n",
       "  u'mode': u'rgb',\n",
       "  u'name': u'',\n",
       "  u'values': [0, 0.18431399999999998, 0.18431399999999998]}]"
      ]
     },
     "execution_count": 10,
     "metadata": {},
     "output_type": "execute_result"
    }
   ],
   "source": [
    "# df.swatches[i]: list of dicts\n",
    "df.swatches[0]"
   ]
  },
  {
   "cell_type": "code",
   "execution_count": 12,
   "metadata": {
    "collapsed": false
   },
   "outputs": [
    {
     "data": {
      "text/plain": [
       "{u'colorIndex': 598,\n",
       " u'hex': u'E6E2AF',\n",
       " u'mode': u'rgb',\n",
       " u'name': u'',\n",
       " u'values': [0.901961, 0.8862749999999999, 0.686275]}"
      ]
     },
     "execution_count": 12,
     "metadata": {},
     "output_type": "execute_result"
    }
   ],
   "source": [
    "df.swatches[0][0]"
   ]
  },
  {
   "cell_type": "code",
   "execution_count": 13,
   "metadata": {
    "collapsed": false
   },
   "outputs": [
    {
     "data": {
      "text/plain": [
       "'E6E2AF'"
      ]
     },
     "execution_count": 13,
     "metadata": {},
     "output_type": "execute_result"
    }
   ],
   "source": [
    "# We only need hexcode\n",
    "str(df.swatches[0][0][\"hex\"])"
   ]
  },
  {
   "cell_type": "markdown",
   "metadata": {},
   "source": [
    "##IV. Extract data"
   ]
  },
  {
   "cell_type": "markdown",
   "metadata": {},
   "source": [
    "###1. Decide which key-value to extract\n",
    "Column name - key:\n",
    "    - author: id\n",
    "    - comment: count\n",
    "    - like: count\n",
    "    - rating: count, overall\n",
    "    - view: count"
   ]
  },
  {
   "cell_type": "code",
   "execution_count": 14,
   "metadata": {
    "collapsed": true
   },
   "outputs": [],
   "source": [
    "def func(x,keyname):\n",
    "    \"\"\"Extract values using keys\"\"\"\n",
    "    k = x[keyname] # here I read key values \n",
    "    return pd.Series(k)"
   ]
  },
  {
   "cell_type": "markdown",
   "metadata": {},
   "source": [
    "###2. Extract values from dictionaries (general)"
   ]
  },
  {
   "cell_type": "code",
   "execution_count": 15,
   "metadata": {
    "collapsed": true
   },
   "outputs": [],
   "source": [
    "# Use pandas apply and lambda \n",
    "df['AuthorID']=df['author'].apply((lambda x: func(x,'id')))\n",
    "df['Comments']=df['comment'].apply((lambda x: func(x,'count')))\n",
    "df['Likes']=df['like'].apply((lambda x: func(x,'count')))\n",
    "df['ReviewCounts']=df['rating'].apply((lambda x: func(x,'count')))\n",
    "df['ReviewAvr']=df['rating'].apply((lambda x: func(x,'overall')))\n",
    "df['Views']=df['view'].apply((lambda x: func(x,'count')))"
   ]
  },
  {
   "cell_type": "code",
   "execution_count": 16,
   "metadata": {
    "collapsed": true
   },
   "outputs": [],
   "source": [
    "# Drop the old columns\n",
    "df = df.drop('author', 1)\n",
    "df = df.drop('comment', 1)\n",
    "df = df.drop('like', 1)\n",
    "df = df.drop('rating', 1)\n",
    "df = df.drop('view', 1)"
   ]
  },
  {
   "cell_type": "markdown",
   "metadata": {},
   "source": [
    "###3. Extract the time data"
   ]
  },
  {
   "cell_type": "code",
   "execution_count": 17,
   "metadata": {
    "collapsed": true
   },
   "outputs": [],
   "source": [
    "def convert_time(x):\n",
    "    \"\"\"Read unicode time data and convert it to %Y-%m-%dT%H:%M:%S format. The last 6 strings will be truncated.\"\"\"\n",
    "    k = x[:-6]\n",
    "    k = datetime.strptime(k, '%Y-%m-%dT%H:%M:%S')\n",
    "    return pd.Series(k)"
   ]
  },
  {
   "cell_type": "code",
   "execution_count": 18,
   "metadata": {
    "collapsed": true
   },
   "outputs": [],
   "source": [
    "# Fix the time data format\n",
    "df['Time']=df['createdAt'].apply((lambda x: convert_time(x)))\n",
    "# Drop the old column\n",
    "df = df.drop('createdAt', 1)"
   ]
  },
  {
   "cell_type": "markdown",
   "metadata": {},
   "source": [
    "###4. Extract the color data\n",
    "We build a separate column for each color (in order). The \"swatches\" column has this following structure: \n",
    "- df.swatches[i][j][\"hex\"]: i is the row number, and j is the (j+1)th color in the theme."
   ]
  },
  {
   "cell_type": "code",
   "execution_count": 19,
   "metadata": {
    "collapsed": true
   },
   "outputs": [],
   "source": [
    "def func_extract_color(x,colorIdx):\n",
    "    \"\"\"Read a value from a df (x) using colorIdx, and extracts hexcode\"\"\"\n",
    "    k = x[colorIdx][\"hex\"] # here I read key values \n",
    "    return pd.Series(k)"
   ]
  },
  {
   "cell_type": "code",
   "execution_count": 20,
   "metadata": {
    "collapsed": true
   },
   "outputs": [],
   "source": [
    "# Create new columns for each color\n",
    "df['C1']=df['swatches'].apply((lambda x: func_extract_color(x,0)))\n",
    "df['C2']=df['swatches'].apply((lambda x: func_extract_color(x,1)))\n",
    "df['C3']=df['swatches'].apply((lambda x: func_extract_color(x,2)))\n",
    "df['C4']=df['swatches'].apply((lambda x: func_extract_color(x,3)))\n",
    "df['C5']=df['swatches'].apply((lambda x: func_extract_color(x,4)))\n",
    "# Drop the old column\n",
    "df = df.drop('swatches', 1)"
   ]
  },
  {
   "cell_type": "markdown",
   "metadata": {},
   "source": [
    "###5. Rearrange columns"
   ]
  },
  {
   "cell_type": "code",
   "execution_count": 21,
   "metadata": {
    "collapsed": false
   },
   "outputs": [
    {
     "data": {
      "text/html": [
       "<div style=\"max-height:1000px;max-width:1500px;overflow:auto;\">\n",
       "<table border=\"1\" class=\"dataframe\">\n",
       "  <thead>\n",
       "    <tr style=\"text-align: right;\">\n",
       "      <th></th>\n",
       "      <th>id</th>\n",
       "      <th>name</th>\n",
       "      <th>C1</th>\n",
       "      <th>C2</th>\n",
       "      <th>C3</th>\n",
       "      <th>C4</th>\n",
       "      <th>C5</th>\n",
       "      <th>Likes</th>\n",
       "      <th>Time</th>\n",
       "      <th>AuthorID</th>\n",
       "      <th>ReviewCounts</th>\n",
       "      <th>ReviewAvr</th>\n",
       "      <th>Views</th>\n",
       "      <th>Comments</th>\n",
       "      <th>tags</th>\n",
       "    </tr>\n",
       "  </thead>\n",
       "  <tbody>\n",
       "    <tr>\n",
       "      <th>0</th>\n",
       "      <td>15325</td>\n",
       "      <td>sandy stone beach ocean diver</td>\n",
       "      <td>E6E2AF</td>\n",
       "      <td>A7A37E</td>\n",
       "      <td>EFECCA</td>\n",
       "      <td>046380</td>\n",
       "      <td>002F2F</td>\n",
       "      <td>13707</td>\n",
       "      <td>2007-01-18 08:51:12</td>\n",
       "      <td>17923</td>\n",
       "      <td>1755</td>\n",
       "      <td>3.90</td>\n",
       "      <td>39612</td>\n",
       "      <td>339</td>\n",
       "      <td>[{u'value': u'beach'}, {u'value': u'diver'}, {...</td>\n",
       "    </tr>\n",
       "    <tr>\n",
       "      <th>1</th>\n",
       "      <td>24198</td>\n",
       "      <td>Firenze</td>\n",
       "      <td>468966</td>\n",
       "      <td>FFF0A5</td>\n",
       "      <td>FFB03B</td>\n",
       "      <td>B64926</td>\n",
       "      <td>8E2800</td>\n",
       "      <td>10737</td>\n",
       "      <td>2007-03-01 00:42:36</td>\n",
       "      <td>17772</td>\n",
       "      <td>1441</td>\n",
       "      <td>3.89</td>\n",
       "      <td>28750</td>\n",
       "      <td>186</td>\n",
       "      <td>[{u'value': u'bellagio'}, {u'value': u'boot'},...</td>\n",
       "    </tr>\n",
       "    <tr>\n",
       "      <th>2</th>\n",
       "      <td>22361</td>\n",
       "      <td>Neutral Blue</td>\n",
       "      <td>FCFFF5</td>\n",
       "      <td>D1DBBD</td>\n",
       "      <td>91AA9D</td>\n",
       "      <td>3E606F</td>\n",
       "      <td>193441</td>\n",
       "      <td>8993</td>\n",
       "      <td>2007-02-22 00:06:18</td>\n",
       "      <td>17772</td>\n",
       "      <td>556</td>\n",
       "      <td>3.78</td>\n",
       "      <td>18051</td>\n",
       "      <td>54</td>\n",
       "      <td>[{u'value': u'adult'}, {u'value': u'azure'}, {...</td>\n",
       "    </tr>\n",
       "    <tr>\n",
       "      <th>3</th>\n",
       "      <td>1764754</td>\n",
       "      <td>Phaedra</td>\n",
       "      <td>FF6138</td>\n",
       "      <td>FFFF9D</td>\n",
       "      <td>BEEB9F</td>\n",
       "      <td>79BD8F</td>\n",
       "      <td>00A388</td>\n",
       "      <td>7108</td>\n",
       "      <td>2012-02-14 16:36:28</td>\n",
       "      <td>243670</td>\n",
       "      <td>149</td>\n",
       "      <td>4.06</td>\n",
       "      <td>10185</td>\n",
       "      <td>18</td>\n",
       "      <td>[]</td>\n",
       "    </tr>\n",
       "    <tr>\n",
       "      <th>4</th>\n",
       "      <td>1490158</td>\n",
       "      <td>Honey Pot</td>\n",
       "      <td>105B63</td>\n",
       "      <td>FFFAD5</td>\n",
       "      <td>FFD34E</td>\n",
       "      <td>DB9E36</td>\n",
       "      <td>BD4932</td>\n",
       "      <td>6352</td>\n",
       "      <td>2011-09-03 16:14:04</td>\n",
       "      <td>422481</td>\n",
       "      <td>261</td>\n",
       "      <td>4.09</td>\n",
       "      <td>9708</td>\n",
       "      <td>50</td>\n",
       "      <td>[{u'value': u'bee'}, {u'value': u'bottle'}, {u...</td>\n",
       "    </tr>\n",
       "  </tbody>\n",
       "</table>\n",
       "</div>"
      ],
      "text/plain": [
       "        id                           name      C1      C2      C3      C4  \\\n",
       "0    15325  sandy stone beach ocean diver  E6E2AF  A7A37E  EFECCA  046380   \n",
       "1    24198                        Firenze  468966  FFF0A5  FFB03B  B64926   \n",
       "2    22361                   Neutral Blue  FCFFF5  D1DBBD  91AA9D  3E606F   \n",
       "3  1764754                        Phaedra  FF6138  FFFF9D  BEEB9F  79BD8F   \n",
       "4  1490158                      Honey Pot  105B63  FFFAD5  FFD34E  DB9E36   \n",
       "\n",
       "       C5  Likes                Time AuthorID  ReviewCounts  ReviewAvr  Views  \\\n",
       "0  002F2F  13707 2007-01-18 08:51:12    17923          1755       3.90  39612   \n",
       "1  8E2800  10737 2007-03-01 00:42:36    17772          1441       3.89  28750   \n",
       "2  193441   8993 2007-02-22 00:06:18    17772           556       3.78  18051   \n",
       "3  00A388   7108 2012-02-14 16:36:28   243670           149       4.06  10185   \n",
       "4  BD4932   6352 2011-09-03 16:14:04   422481           261       4.09   9708   \n",
       "\n",
       "   Comments                                               tags  \n",
       "0       339  [{u'value': u'beach'}, {u'value': u'diver'}, {...  \n",
       "1       186  [{u'value': u'bellagio'}, {u'value': u'boot'},...  \n",
       "2        54  [{u'value': u'adult'}, {u'value': u'azure'}, {...  \n",
       "3        18                                                 []  \n",
       "4        50  [{u'value': u'bee'}, {u'value': u'bottle'}, {u...  "
      ]
     },
     "execution_count": 21,
     "metadata": {},
     "output_type": "execute_result"
    }
   ],
   "source": [
    "df = df[['id','name','C1','C2','C3','C4','C5','Likes','Time','AuthorID','ReviewCounts','ReviewAvr','Views','Comments','tags']]\n",
    "df.head()"
   ]
  },
  {
   "cell_type": "markdown",
   "metadata": {},
   "source": [
    "##V. Save the data\n",
    "We can pi"
   ]
  }
 ],
 "metadata": {
  "kernelspec": {
   "display_name": "Python 2",
   "language": "python",
   "name": "python2"
  },
  "language_info": {
   "codemirror_mode": {
    "name": "ipython",
    "version": 2
   },
   "file_extension": ".py",
   "mimetype": "text/x-python",
   "name": "python",
   "nbconvert_exporter": "python",
   "pygments_lexer": "ipython2",
   "version": "2.7.10"
  }
 },
 "nbformat": 4,
 "nbformat_minor": 0
}
