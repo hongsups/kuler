{
 "cells": [
  {
   "cell_type": "markdown",
   "metadata": {},
   "source": [
    "#Kuler: Scrpaing JSON response"
   ]
  },
  {
   "cell_type": "markdown",
   "metadata": {},
   "source": [
    "Using a developer tool from a web browser (e.g., Chrome) I can locate the information about the color themes in the <a href = \"https://color.adobe.com/explore/most-popular/?time=all\">Kuler</a> website. However, the website forbids access from most of the browser automation or web scraping tools. So far, I tried urllib2, selenium, requests, and beautifulsoup. Instead of the JSON response I see from the web, my code gives forbidden errors.I tried bypassing this by setting 'user-agent' header differently, but did not succeed.\n",
    "\n",
    "<b>Update: 07/20/15</b>\n",
    "<p>Adobe does not provide much information about its Kuler API, which seems to have caused complaints from many users. In an Adobe forum, I found a post providing this <a href = \"http://kuler-api.adobe.com/rss/get.cfm?listType=popular&itemsPerPage=100&key=mykey\">link</a> for getting data. However, it seems like it can only provide maybe up to 500 themes at max. Technically, I could still use scrapping from DOM structure, but JSON response is still much more convenient."
   ]
  },
  {
   "cell_type": "markdown",
   "metadata": {},
   "source": [
    "###Attempt 1: Selenium and urllib2"
   ]
  },
  {
   "cell_type": "code",
   "execution_count": 5,
   "metadata": {
    "collapsed": false
   },
   "outputs": [],
   "source": [
    "import requests\n",
    "import urllib2\n",
    "import json\n",
    "import numpy as np\n",
    "import pandas as pd\n",
    "from pandas import DataFrame, Series\n",
    "from selenium import webdriver"
   ]
  },
  {
   "cell_type": "code",
   "execution_count": null,
   "metadata": {
    "collapsed": true
   },
   "outputs": [],
   "source": [
    "driver = webdriver.Firefox()\n",
    "url2 = 'https://color.adobe.com/api/v2/themes?filter=public&startIndex=36&maxNumber=36&sort=like_count&time=all'\n",
    "url = 'https://color.adobe.com/api/v2/themes?filter=public&startIndex=0&maxNumber=36&sort=like_count&time=all'\n",
    "r = requests.get(url)\n",
    "r.json()"
   ]
  },
  {
   "cell_type": "code",
   "execution_count": null,
   "metadata": {
    "collapsed": true
   },
   "outputs": [],
   "source": [
    "r.headers['date']"
   ]
  },
  {
   "cell_type": "code",
   "execution_count": null,
   "metadata": {
    "collapsed": true
   },
   "outputs": [],
   "source": [
    "r = requests.get(url, stream=True)\n",
    "print r.raw.read()\n",
    "print r.reason"
   ]
  },
  {
   "cell_type": "code",
   "execution_count": null,
   "metadata": {
    "collapsed": true
   },
   "outputs": [],
   "source": [
    "# Attemp to bypass the forbidden error\n",
    "headers = {'user-agent': 'my-app/0.0.1'}\n",
    "r = requests.get(url, headers=headers)"
   ]
  },
  {
   "cell_type": "code",
   "execution_count": 70,
   "metadata": {
    "collapsed": false,
    "scrolled": true
   },
   "outputs": [
    {
     "name": "stdout",
     "output_type": "stream",
     "text": [
      "\n"
     ]
    }
   ],
   "source": [
    "from urllib2 import Request, urlopen, URLError\n",
    "r = requests.get(\"http://kuler-api.adobe.com/rss/get.cfm?listType=popular&itemsPerPage=550&key=mykey\")\n",
    "print r.content"
   ]
  },
  {
   "cell_type": "markdown",
   "metadata": {},
   "source": [
    "###Attempt 2: Beautifulsoup"
   ]
  },
  {
   "cell_type": "code",
   "execution_count": null,
   "metadata": {
    "collapsed": true
   },
   "outputs": [],
   "source": [
    "from bs4 import BeautifulSoup\n",
    "\n",
    "import urllib2 \n",
    "request = urllib2.Request(url1, headers={\"User-Agent\" : \"Mozilla/38.0.5\"})\n",
    "content = urllib2.urlopen(request).read()"
   ]
  }
 ],
 "metadata": {
  "kernelspec": {
   "display_name": "Python 2",
   "language": "python",
   "name": "python2"
  },
  "language_info": {
   "codemirror_mode": {
    "name": "ipython",
    "version": 2
   },
   "file_extension": ".py",
   "mimetype": "text/x-python",
   "name": "python",
   "nbconvert_exporter": "python",
   "pygments_lexer": "ipython2",
   "version": "2.7.10"
  }
 },
 "nbformat": 4,
 "nbformat_minor": 0
}
