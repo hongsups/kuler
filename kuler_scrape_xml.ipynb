{
 "cells": [
  {
   "cell_type": "markdown",
   "metadata": {},
   "source": [
    "#Kuler: Scraping XML\n",
    "Using a developer tool from a web browser (e.g., Chrome) I can locate the information about the color themes in the <a href = \"https://color.adobe.com/explore/most-popular/?time=all\">Kuler</a> website by checking the DOM tree. Using browser automation (Selenium in my case), I can scrape RGB color codes from color themes.\n",
    "<p>\n",
    "However, the problem is that in the \"Explore\" page, XML does not contain much information. For more information, you have to click each theme for scraping. For this reason, I prefer scraping JSON response.\n",
    "<p>\n",
    "<b>06/12/15 Update</b> - [Blog post](http://www.hongsup.com/blog/2015/6/12/data-wrangling)\n",
    "<p>\n",
    "###[I. Browser automation using Selenium](#1)\n",
    "###[II. Go to the bottom of the page and load more data](#2)\n",
    "###[III. Find an XML element](#3)\n",
    "###[IV. Scrape RGB codes](#4)"
   ]
  },
  {
   "cell_type": "markdown",
   "metadata": {},
   "source": [
    "<a id='1'></a>\n",
    "##I. Browser automation using Selenium"
   ]
  },
  {
   "cell_type": "code",
   "execution_count": 1,
   "metadata": {
    "collapsed": false
   },
   "outputs": [],
   "source": [
    "from selenium import webdriver\n",
    "# default: Firefox \n",
    "driver = webdriver.Firefox() \n",
    "# We scrape Top n popular themes\n",
    "driver.get(\"https://color.adobe.com/explore/most-popular/?time=all\")"
   ]
  },
  {
   "cell_type": "markdown",
   "metadata": {},
   "source": [
    "<a id='2'></a>\n",
    "##II. Go to the bottom of the page and load more data"
   ]
  },
  {
   "cell_type": "code",
   "execution_count": 2,
   "metadata": {
    "collapsed": false
   },
   "outputs": [],
   "source": [
    "import time\n",
    "n_reloads = 5\n",
    "pause = 0\n",
    "for _ in range(n_reloads):\n",
    "    driver.execute_script(\"window.scrollTo(0, document.body.scrollHeight);\")\n",
    "    time.sleep(pause)"
   ]
  },
  {
   "cell_type": "markdown",
   "metadata": {},
   "source": [
    "<a id='3'></a>\n",
    "##III. Find an XML element \n",
    "- Use its Xpath address (check Chrome Inspector)\n",
    "- example here is the 4th color from the 6th theme"
   ]
  },
  {
   "cell_type": "code",
   "execution_count": 3,
   "metadata": {
    "collapsed": false,
    "scrolled": true
   },
   "outputs": [
    {
     "data": {
      "text/plain": [
       "u'background: rgb(243, 255, 226) none repeat scroll 0% 0%;'"
      ]
     },
     "execution_count": 3,
     "metadata": {},
     "output_type": "execute_result"
    }
   ],
   "source": [
    "# Color information is stored in \"style\"\n",
    "driver.find_element_by_xpath('//*[@id=\"content\"]/div/div/div[6]/div/div/div[4]').get_attribute('style')"
   ]
  },
  {
   "cell_type": "markdown",
   "metadata": {},
   "source": [
    "<a id='4'></a>\n",
    "##IV. Scrape RGB codes"
   ]
  },
  {
   "cell_type": "code",
   "execution_count": 4,
   "metadata": {
    "collapsed": false
   },
   "outputs": [
    {
     "name": "stdout",
     "output_type": "stream",
     "text": [
      "background: rgb(230, 226, 175) none repeat scroll 0% 0%;\n",
      "background: rgb(167, 163, 126) none repeat scroll 0% 0%;\n",
      "background: rgb(239, 236, 202) none repeat scroll 0% 0%;\n",
      "background: rgb(4, 99, 128) none repeat scroll 0% 0%;\n",
      "background: rgb(0, 47, 47) none repeat scroll 0% 0%;\n",
      "background: rgb(70, 137, 102) none repeat scroll 0% 0%;\n",
      "background: rgb(255, 240, 165) none repeat scroll 0% 0%;\n",
      "background: rgb(255, 176, 59) none repeat scroll 0% 0%;\n",
      "background: rgb(182, 73, 38) none repeat scroll 0% 0%;\n",
      "background: rgb(142, 40, 0) none repeat scroll 0% 0%;\n"
     ]
    }
   ],
   "source": [
    "for j in range(1,3):\n",
    "    for i in range(1,6):\n",
    "        string = '//*[@id=\"content\"]/div/div/div[' + str(j) + ']/div/div/div[' + str(i) + ']'\n",
    "        print driver.find_element_by_xpath(string).get_attribute('style')"
   ]
  },
  {
   "cell_type": "code",
   "execution_count": null,
   "metadata": {
    "collapsed": true
   },
   "outputs": [],
   "source": []
  }
 ],
 "metadata": {
  "kernelspec": {
   "display_name": "Python 2",
   "language": "python",
   "name": "python2"
  },
  "language_info": {
   "codemirror_mode": {
    "name": "ipython",
    "version": 2
   },
   "file_extension": ".py",
   "mimetype": "text/x-python",
   "name": "python",
   "nbconvert_exporter": "python",
   "pygments_lexer": "ipython2",
   "version": "2.7.10"
  }
 },
 "nbformat": 4,
 "nbformat_minor": 0
}
