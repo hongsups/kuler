{
 "cells": [
  {
   "cell_type": "markdown",
   "metadata": {},
   "source": [
    "#Kuler Preference"
   ]
  },
  {
   "cell_type": "markdown",
   "metadata": {},
   "source": [
    "###Summary\n",
    "- 07/06/15\n",
    "    - We finally implement user preference in a clustering analysis (kmeans).\n",
    "    - Scale preference (normalize) -> come up with an integer for # of likes -> duplicate -> run kmeans"
   ]
  },
  {
   "cell_type": "markdown",
   "metadata": {},
   "source": [
    "##Import modules"
   ]
  },
  {
   "cell_type": "code",
   "execution_count": 1,
   "metadata": {
    "collapsed": true
   },
   "outputs": [],
   "source": [
    "import numpy as np\n",
    "import pandas as pd\n",
    "from pandas import Series,DataFrame\n",
    "import scipy as sp\n",
    "\n",
    "# plotting\n",
    "import matplotlib.pyplot as plt\n",
    "import matplotlib.cm as pltcm\n",
    "%matplotlib inline"
   ]
  },
  {
   "cell_type": "markdown",
   "metadata": {},
   "source": [
    "##load dataframes and ndarrays"
   ]
  },
  {
   "cell_type": "code",
   "execution_count": 4,
   "metadata": {
    "collapsed": true
   },
   "outputs": [],
   "source": [
    "df = pd.read_pickle('kuler_df')\n",
    "df_ = pd.read_pickle('kuler_df_')\n",
    "df_all = pd.read_pickle('kuler_df_all')\n",
    "data_pair = np.load('kuler_data_pair.npy')\n",
    "data_LabAll = np.load('kuler_data_LabAll.npy')"
   ]
  },
  {
   "cell_type": "code",
   "execution_count": 5,
   "metadata": {
    "collapsed": false
   },
   "outputs": [
    {
     "data": {
      "text/html": [
       "<div style=\"max-height:1000px;max-width:1500px;overflow:auto;\">\n",
       "<table border=\"1\" class=\"dataframe\">\n",
       "  <thead>\n",
       "    <tr style=\"text-align: right;\">\n",
       "      <th></th>\n",
       "      <th>id</th>\n",
       "      <th>name</th>\n",
       "      <th>C1</th>\n",
       "      <th>C2</th>\n",
       "      <th>C3</th>\n",
       "      <th>C4</th>\n",
       "      <th>C5</th>\n",
       "      <th>Likes</th>\n",
       "      <th>Time</th>\n",
       "      <th>AuthorID</th>\n",
       "      <th>ReviewCounts</th>\n",
       "      <th>ReviewAvr</th>\n",
       "      <th>Views</th>\n",
       "      <th>Comments</th>\n",
       "      <th>tags</th>\n",
       "      <th>c1</th>\n",
       "      <th>c2</th>\n",
       "      <th>c3</th>\n",
       "      <th>c4</th>\n",
       "      <th>c5</th>\n",
       "    </tr>\n",
       "  </thead>\n",
       "  <tbody>\n",
       "    <tr>\n",
       "      <th>0</th>\n",
       "      <td>15325</td>\n",
       "      <td>sandy stone beach ocean diver</td>\n",
       "      <td>E6E2AF</td>\n",
       "      <td>A7A37E</td>\n",
       "      <td>EFECCA</td>\n",
       "      <td>046380</td>\n",
       "      <td>002F2F</td>\n",
       "      <td>13707</td>\n",
       "      <td>2007-01-18 08:51:12</td>\n",
       "      <td>17923</td>\n",
       "      <td>1755</td>\n",
       "      <td>3.90</td>\n",
       "      <td>39612</td>\n",
       "      <td>339</td>\n",
       "      <td>[{u'value': u'beach'}, {u'value': u'diver'}, {...</td>\n",
       "      <td>[230, 226, 175]</td>\n",
       "      <td>[167, 163, 126]</td>\n",
       "      <td>[239, 236, 202]</td>\n",
       "      <td>[4, 99, 128]</td>\n",
       "      <td>[0, 47, 47]</td>\n",
       "    </tr>\n",
       "    <tr>\n",
       "      <th>1</th>\n",
       "      <td>24198</td>\n",
       "      <td>Firenze</td>\n",
       "      <td>468966</td>\n",
       "      <td>FFF0A5</td>\n",
       "      <td>FFB03B</td>\n",
       "      <td>B64926</td>\n",
       "      <td>8E2800</td>\n",
       "      <td>10737</td>\n",
       "      <td>2007-03-01 00:42:36</td>\n",
       "      <td>17772</td>\n",
       "      <td>1441</td>\n",
       "      <td>3.89</td>\n",
       "      <td>28750</td>\n",
       "      <td>186</td>\n",
       "      <td>[{u'value': u'bellagio'}, {u'value': u'boot'},...</td>\n",
       "      <td>[70, 137, 102]</td>\n",
       "      <td>[255, 240, 165]</td>\n",
       "      <td>[255, 176, 59]</td>\n",
       "      <td>[182, 73, 38]</td>\n",
       "      <td>[142, 40, 0]</td>\n",
       "    </tr>\n",
       "    <tr>\n",
       "      <th>2</th>\n",
       "      <td>22361</td>\n",
       "      <td>Neutral Blue</td>\n",
       "      <td>FCFFF5</td>\n",
       "      <td>D1DBBD</td>\n",
       "      <td>91AA9D</td>\n",
       "      <td>3E606F</td>\n",
       "      <td>193441</td>\n",
       "      <td>8993</td>\n",
       "      <td>2007-02-22 00:06:18</td>\n",
       "      <td>17772</td>\n",
       "      <td>556</td>\n",
       "      <td>3.78</td>\n",
       "      <td>18051</td>\n",
       "      <td>54</td>\n",
       "      <td>[{u'value': u'adult'}, {u'value': u'azure'}, {...</td>\n",
       "      <td>[252, 255, 245]</td>\n",
       "      <td>[209, 219, 189]</td>\n",
       "      <td>[145, 170, 157]</td>\n",
       "      <td>[62, 96, 111]</td>\n",
       "      <td>[25, 52, 65]</td>\n",
       "    </tr>\n",
       "    <tr>\n",
       "      <th>3</th>\n",
       "      <td>1764754</td>\n",
       "      <td>Phaedra</td>\n",
       "      <td>FF6138</td>\n",
       "      <td>FFFF9D</td>\n",
       "      <td>BEEB9F</td>\n",
       "      <td>79BD8F</td>\n",
       "      <td>00A388</td>\n",
       "      <td>7108</td>\n",
       "      <td>2012-02-14 16:36:28</td>\n",
       "      <td>243670</td>\n",
       "      <td>149</td>\n",
       "      <td>4.06</td>\n",
       "      <td>10185</td>\n",
       "      <td>18</td>\n",
       "      <td>[]</td>\n",
       "      <td>[255, 97, 56]</td>\n",
       "      <td>[255, 255, 157]</td>\n",
       "      <td>[190, 235, 159]</td>\n",
       "      <td>[121, 189, 143]</td>\n",
       "      <td>[0, 163, 136]</td>\n",
       "    </tr>\n",
       "    <tr>\n",
       "      <th>4</th>\n",
       "      <td>1490158</td>\n",
       "      <td>Honey Pot</td>\n",
       "      <td>105B63</td>\n",
       "      <td>FFFAD5</td>\n",
       "      <td>FFD34E</td>\n",
       "      <td>DB9E36</td>\n",
       "      <td>BD4932</td>\n",
       "      <td>6352</td>\n",
       "      <td>2011-09-03 16:14:04</td>\n",
       "      <td>422481</td>\n",
       "      <td>261</td>\n",
       "      <td>4.09</td>\n",
       "      <td>9708</td>\n",
       "      <td>50</td>\n",
       "      <td>[{u'value': u'bee'}, {u'value': u'bottle'}, {u...</td>\n",
       "      <td>[16, 91, 99]</td>\n",
       "      <td>[255, 250, 213]</td>\n",
       "      <td>[255, 211, 78]</td>\n",
       "      <td>[219, 158, 54]</td>\n",
       "      <td>[189, 73, 50]</td>\n",
       "    </tr>\n",
       "  </tbody>\n",
       "</table>\n",
       "</div>"
      ],
      "text/plain": [
       "        id                           name      C1      C2      C3      C4  \\\n",
       "0    15325  sandy stone beach ocean diver  E6E2AF  A7A37E  EFECCA  046380   \n",
       "1    24198                        Firenze  468966  FFF0A5  FFB03B  B64926   \n",
       "2    22361                   Neutral Blue  FCFFF5  D1DBBD  91AA9D  3E606F   \n",
       "3  1764754                        Phaedra  FF6138  FFFF9D  BEEB9F  79BD8F   \n",
       "4  1490158                      Honey Pot  105B63  FFFAD5  FFD34E  DB9E36   \n",
       "\n",
       "       C5  Likes                Time AuthorID  ReviewCounts  ReviewAvr  Views  \\\n",
       "0  002F2F  13707 2007-01-18 08:51:12    17923          1755       3.90  39612   \n",
       "1  8E2800  10737 2007-03-01 00:42:36    17772          1441       3.89  28750   \n",
       "2  193441   8993 2007-02-22 00:06:18    17772           556       3.78  18051   \n",
       "3  00A388   7108 2012-02-14 16:36:28   243670           149       4.06  10185   \n",
       "4  BD4932   6352 2011-09-03 16:14:04   422481           261       4.09   9708   \n",
       "\n",
       "   Comments                                               tags  \\\n",
       "0       339  [{u'value': u'beach'}, {u'value': u'diver'}, {...   \n",
       "1       186  [{u'value': u'bellagio'}, {u'value': u'boot'},...   \n",
       "2        54  [{u'value': u'adult'}, {u'value': u'azure'}, {...   \n",
       "3        18                                                 []   \n",
       "4        50  [{u'value': u'bee'}, {u'value': u'bottle'}, {u...   \n",
       "\n",
       "                c1               c2               c3               c4  \\\n",
       "0  [230, 226, 175]  [167, 163, 126]  [239, 236, 202]     [4, 99, 128]   \n",
       "1   [70, 137, 102]  [255, 240, 165]   [255, 176, 59]    [182, 73, 38]   \n",
       "2  [252, 255, 245]  [209, 219, 189]  [145, 170, 157]    [62, 96, 111]   \n",
       "3    [255, 97, 56]  [255, 255, 157]  [190, 235, 159]  [121, 189, 143]   \n",
       "4     [16, 91, 99]  [255, 250, 213]   [255, 211, 78]   [219, 158, 54]   \n",
       "\n",
       "              c5  \n",
       "0    [0, 47, 47]  \n",
       "1   [142, 40, 0]  \n",
       "2   [25, 52, 65]  \n",
       "3  [0, 163, 136]  \n",
       "4  [189, 73, 50]  "
      ]
     },
     "execution_count": 5,
     "metadata": {},
     "output_type": "execute_result"
    }
   ],
   "source": [
    "df.head()"
   ]
  },
  {
   "cell_type": "code",
   "execution_count": null,
   "metadata": {
    "collapsed": true
   },
   "outputs": [],
   "source": []
  },
  {
   "cell_type": "code",
   "execution_count": null,
   "metadata": {
    "collapsed": true
   },
   "outputs": [],
   "source": []
  }
 ],
 "metadata": {
  "kernelspec": {
   "display_name": "Python 2",
   "language": "python",
   "name": "python2"
  },
  "language_info": {
   "codemirror_mode": {
    "name": "ipython",
    "version": 2
   },
   "file_extension": ".py",
   "mimetype": "text/x-python",
   "name": "python",
   "nbconvert_exporter": "python",
   "pygments_lexer": "ipython2",
   "version": "2.7.10"
  }
 },
 "nbformat": 4,
 "nbformat_minor": 0
}
