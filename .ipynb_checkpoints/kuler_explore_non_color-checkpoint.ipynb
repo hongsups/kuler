{
 "cells": [
  {
   "cell_type": "markdown",
   "metadata": {},
   "source": [
    "#Kuler: Explore the non-color data\n",
    "\n",
    "Exploratory data analysis (EDA) is a process where you figure out general features of your data. It's a close and casual conversation between you and data, and a very fun process! You make figures of histograms, scatter plots or bar plots to see how your data looks like. This can give you a general idea about your data, help you discover interesting facts about it, and finally guide you to a right direction towards your goal. I always go back and forth between applying models/algorithms and EDA for these reasons. Here, I'll explore the non-color data.\n",
    "\n",
    "<b>06/25/15 Update</b> - [blog post](http://www.hongsup.com/blog/2015/6/25/exploratory-data-analysis)\n",
    "\n",
    "##[I. Check website activity](#1)\n",
    "\n",
    "##[II. Select a measure of user preference](#2)\n",
    "- [1. Number of reviews vs. average review rating](#2-1)\n",
    "- [2. Number of reviews vs. number of likes](#2-2)\n",
    "- [3. Number of views vs. number of likes](#2-3)\n",
    "\n",
    "##[III. Likes as user preference](#3)\n",
    "- [1. Likes distribution](#3-1)\n",
    "- [2. Average number of likes per year](#3-2)"
   ]
  },
  {
   "cell_type": "markdown",
   "metadata": {},
   "source": [
    "<a id='1'></a>\n",
    "##I. Check website activity"
   ]
  },
  {
   "cell_type": "code",
   "execution_count": 1,
   "metadata": {
    "collapsed": true
   },
   "outputs": [],
   "source": [
    "#Import modules\n",
    "import numpy as np\n",
    "import pandas as pd\n",
    "import scipy as sp\n",
    "\n",
    "# plotting\n",
    "import seaborn as sns\n",
    "sns.set(style=\"whitegrid\")\n",
    "import matplotlib.pyplot as plt\n",
    "%matplotlib inline"
   ]
  },
  {
   "cell_type": "code",
   "execution_count": 6,
   "metadata": {
    "collapsed": false,
    "scrolled": true
   },
   "outputs": [
    {
     "data": {
      "text/html": [
       "<div style=\"max-height:1000px;max-width:1500px;overflow:auto;\">\n",
       "<table border=\"1\" class=\"dataframe\">\n",
       "  <thead>\n",
       "    <tr style=\"text-align: right;\">\n",
       "      <th></th>\n",
       "      <th>id</th>\n",
       "      <th>name</th>\n",
       "      <th>C1</th>\n",
       "      <th>C2</th>\n",
       "      <th>C3</th>\n",
       "      <th>C4</th>\n",
       "      <th>C5</th>\n",
       "      <th>Likes</th>\n",
       "      <th>Time</th>\n",
       "      <th>AuthorID</th>\n",
       "      <th>...</th>\n",
       "      <th>ReviewAvr</th>\n",
       "      <th>Views</th>\n",
       "      <th>Comments</th>\n",
       "      <th>tags</th>\n",
       "      <th>c1</th>\n",
       "      <th>c2</th>\n",
       "      <th>c3</th>\n",
       "      <th>c4</th>\n",
       "      <th>c5</th>\n",
       "      <th>Year</th>\n",
       "    </tr>\n",
       "  </thead>\n",
       "  <tbody>\n",
       "    <tr>\n",
       "      <th>0</th>\n",
       "      <td>15325</td>\n",
       "      <td>sandy stone beach ocean diver</td>\n",
       "      <td>E6E2AF</td>\n",
       "      <td>A7A37E</td>\n",
       "      <td>EFECCA</td>\n",
       "      <td>046380</td>\n",
       "      <td>002F2F</td>\n",
       "      <td>13707</td>\n",
       "      <td>2007-01-18 08:51:12</td>\n",
       "      <td>17923</td>\n",
       "      <td>...</td>\n",
       "      <td>3.90</td>\n",
       "      <td>39612</td>\n",
       "      <td>339</td>\n",
       "      <td>[{u'value': u'beach'}, {u'value': u'diver'}, {...</td>\n",
       "      <td>[230, 226, 175]</td>\n",
       "      <td>[167, 163, 126]</td>\n",
       "      <td>[239, 236, 202]</td>\n",
       "      <td>[4, 99, 128]</td>\n",
       "      <td>[0, 47, 47]</td>\n",
       "      <td>2007</td>\n",
       "    </tr>\n",
       "    <tr>\n",
       "      <th>1</th>\n",
       "      <td>24198</td>\n",
       "      <td>Firenze</td>\n",
       "      <td>468966</td>\n",
       "      <td>FFF0A5</td>\n",
       "      <td>FFB03B</td>\n",
       "      <td>B64926</td>\n",
       "      <td>8E2800</td>\n",
       "      <td>10737</td>\n",
       "      <td>2007-03-01 00:42:36</td>\n",
       "      <td>17772</td>\n",
       "      <td>...</td>\n",
       "      <td>3.89</td>\n",
       "      <td>28750</td>\n",
       "      <td>186</td>\n",
       "      <td>[{u'value': u'bellagio'}, {u'value': u'boot'},...</td>\n",
       "      <td>[70, 137, 102]</td>\n",
       "      <td>[255, 240, 165]</td>\n",
       "      <td>[255, 176, 59]</td>\n",
       "      <td>[182, 73, 38]</td>\n",
       "      <td>[142, 40, 0]</td>\n",
       "      <td>2007</td>\n",
       "    </tr>\n",
       "    <tr>\n",
       "      <th>2</th>\n",
       "      <td>22361</td>\n",
       "      <td>Neutral Blue</td>\n",
       "      <td>FCFFF5</td>\n",
       "      <td>D1DBBD</td>\n",
       "      <td>91AA9D</td>\n",
       "      <td>3E606F</td>\n",
       "      <td>193441</td>\n",
       "      <td>8993</td>\n",
       "      <td>2007-02-22 00:06:18</td>\n",
       "      <td>17772</td>\n",
       "      <td>...</td>\n",
       "      <td>3.78</td>\n",
       "      <td>18051</td>\n",
       "      <td>54</td>\n",
       "      <td>[{u'value': u'adult'}, {u'value': u'azure'}, {...</td>\n",
       "      <td>[252, 255, 245]</td>\n",
       "      <td>[209, 219, 189]</td>\n",
       "      <td>[145, 170, 157]</td>\n",
       "      <td>[62, 96, 111]</td>\n",
       "      <td>[25, 52, 65]</td>\n",
       "      <td>2007</td>\n",
       "    </tr>\n",
       "    <tr>\n",
       "      <th>3</th>\n",
       "      <td>1764754</td>\n",
       "      <td>Phaedra</td>\n",
       "      <td>FF6138</td>\n",
       "      <td>FFFF9D</td>\n",
       "      <td>BEEB9F</td>\n",
       "      <td>79BD8F</td>\n",
       "      <td>00A388</td>\n",
       "      <td>7108</td>\n",
       "      <td>2012-02-14 16:36:28</td>\n",
       "      <td>243670</td>\n",
       "      <td>...</td>\n",
       "      <td>4.06</td>\n",
       "      <td>10185</td>\n",
       "      <td>18</td>\n",
       "      <td>[]</td>\n",
       "      <td>[255, 97, 56]</td>\n",
       "      <td>[255, 255, 157]</td>\n",
       "      <td>[190, 235, 159]</td>\n",
       "      <td>[121, 189, 143]</td>\n",
       "      <td>[0, 163, 136]</td>\n",
       "      <td>2012</td>\n",
       "    </tr>\n",
       "    <tr>\n",
       "      <th>4</th>\n",
       "      <td>1490158</td>\n",
       "      <td>Honey Pot</td>\n",
       "      <td>105B63</td>\n",
       "      <td>FFFAD5</td>\n",
       "      <td>FFD34E</td>\n",
       "      <td>DB9E36</td>\n",
       "      <td>BD4932</td>\n",
       "      <td>6352</td>\n",
       "      <td>2011-09-03 16:14:04</td>\n",
       "      <td>422481</td>\n",
       "      <td>...</td>\n",
       "      <td>4.09</td>\n",
       "      <td>9708</td>\n",
       "      <td>50</td>\n",
       "      <td>[{u'value': u'bee'}, {u'value': u'bottle'}, {u...</td>\n",
       "      <td>[16, 91, 99]</td>\n",
       "      <td>[255, 250, 213]</td>\n",
       "      <td>[255, 211, 78]</td>\n",
       "      <td>[219, 158, 54]</td>\n",
       "      <td>[189, 73, 50]</td>\n",
       "      <td>2011</td>\n",
       "    </tr>\n",
       "  </tbody>\n",
       "</table>\n",
       "<p>5 rows × 21 columns</p>\n",
       "</div>"
      ],
      "text/plain": [
       "        id                           name      C1      C2      C3      C4  \\\n",
       "0    15325  sandy stone beach ocean diver  E6E2AF  A7A37E  EFECCA  046380   \n",
       "1    24198                        Firenze  468966  FFF0A5  FFB03B  B64926   \n",
       "2    22361                   Neutral Blue  FCFFF5  D1DBBD  91AA9D  3E606F   \n",
       "3  1764754                        Phaedra  FF6138  FFFF9D  BEEB9F  79BD8F   \n",
       "4  1490158                      Honey Pot  105B63  FFFAD5  FFD34E  DB9E36   \n",
       "\n",
       "       C5  Likes                Time AuthorID  ...   ReviewAvr  Views  \\\n",
       "0  002F2F  13707 2007-01-18 08:51:12    17923  ...        3.90  39612   \n",
       "1  8E2800  10737 2007-03-01 00:42:36    17772  ...        3.89  28750   \n",
       "2  193441   8993 2007-02-22 00:06:18    17772  ...        3.78  18051   \n",
       "3  00A388   7108 2012-02-14 16:36:28   243670  ...        4.06  10185   \n",
       "4  BD4932   6352 2011-09-03 16:14:04   422481  ...        4.09   9708   \n",
       "\n",
       "   Comments                                               tags  \\\n",
       "0       339  [{u'value': u'beach'}, {u'value': u'diver'}, {...   \n",
       "1       186  [{u'value': u'bellagio'}, {u'value': u'boot'},...   \n",
       "2        54  [{u'value': u'adult'}, {u'value': u'azure'}, {...   \n",
       "3        18                                                 []   \n",
       "4        50  [{u'value': u'bee'}, {u'value': u'bottle'}, {u...   \n",
       "\n",
       "                c1               c2               c3               c4  \\\n",
       "0  [230, 226, 175]  [167, 163, 126]  [239, 236, 202]     [4, 99, 128]   \n",
       "1   [70, 137, 102]  [255, 240, 165]   [255, 176, 59]    [182, 73, 38]   \n",
       "2  [252, 255, 245]  [209, 219, 189]  [145, 170, 157]    [62, 96, 111]   \n",
       "3    [255, 97, 56]  [255, 255, 157]  [190, 235, 159]  [121, 189, 143]   \n",
       "4     [16, 91, 99]  [255, 250, 213]   [255, 211, 78]   [219, 158, 54]   \n",
       "\n",
       "              c5  Year  \n",
       "0    [0, 47, 47]  2007  \n",
       "1   [142, 40, 0]  2007  \n",
       "2   [25, 52, 65]  2007  \n",
       "3  [0, 163, 136]  2012  \n",
       "4  [189, 73, 50]  2011  \n",
       "\n",
       "[5 rows x 21 columns]"
      ]
     },
     "execution_count": 6,
     "metadata": {},
     "output_type": "execute_result"
    }
   ],
   "source": [
    "# Load data\n",
    "df = pd.read_pickle('kuler_df')\n",
    "# Extract year and create a separate plot\n",
    "df['Year']=df['Time'].apply((lambda x: x.year))\n",
    "df.head()"
   ]
  },
  {
   "cell_type": "code",
   "execution_count": 7,
   "metadata": {
    "collapsed": false
   },
   "outputs": [
    {
     "data": {
      "image/png": "[encoded data removed]",
      "text/plain": [
       "<matplotlib.figure.Figure at 0x10be91a90>"
      ]
     },
     "metadata": {},
     "output_type": "display_data"
    }
   ],
   "source": [
    "# Plot histogram of number of themes uploaded in each year\n",
    "nbins = max(df.Year)-min(df.Year)\n",
    "fig, ax = plt.subplots()   \n",
    "ax.hist(df.Year,bins=nbins)\n",
    "names = range(min(df.Year), max(df.Year)+1)\n",
    "ax.set_xticklabels(names)\n",
    "plt.show()"
   ]
  },
  {
   "cell_type": "markdown",
   "metadata": {},
   "source": [
    "<a id='2'></a>\n",
    "##II. Select a measure of user preference\n",
    "There are many different measures in the dataset: average review rating (\"ReviewAvr\"), number of views (\"Views\"), number of reviews (\"ReviewCounts\"), and number of likes (\"Likes\").\n",
    "<a id='2-1'></a>\n",
    "###1. Number of reviews vs. average review rating "
   ]
  },
  {
   "cell_type": "code",
   "execution_count": 8,
   "metadata": {
    "collapsed": false
   },
   "outputs": [
    {
     "data": {
      "text/plain": [
       "<seaborn.axisgrid.JointGrid at 0x10a2fa5d0>"
      ]
     },
     "execution_count": 8,
     "metadata": {},
     "output_type": "execute_result"
    },
    {
     "data": {
      "image/png": "[encoded data removed]",
      "text/plain": [
       "<matplotlib.figure.Figure at 0x10a2fac10>"
      ]
     },
     "metadata": {},
     "output_type": "display_data"
    }
   ],
   "source": [
    "sns.jointplot('ReviewCounts','ReviewAvr',data=df)"
   ]
  },
  {
   "cell_type": "markdown",
   "metadata": {},
   "source": [
    "- Many themes have zero review ratings (see the right histogram around zero).\n",
    "- Many themes have zero reviews (see the top histogram around zero)."
   ]
  },
  {
   "cell_type": "markdown",
   "metadata": {},
   "source": [
    "<a id='2-2'></a>\n",
    "###2. Number of reviews vs. number of likes"
   ]
  },
  {
   "cell_type": "code",
   "execution_count": 10,
   "metadata": {
    "collapsed": false
   },
   "outputs": [
    {
     "data": {
      "text/plain": [
       "<seaborn.axisgrid.JointGrid at 0x10a2fad90>"
      ]
     },
     "execution_count": 10,
     "metadata": {},
     "output_type": "execute_result"
    },
    {
     "data": {
      "image/png": "[encoded data removed]",
      "text/plain": [
       "<matplotlib.figure.Figure at 0x10dc91ed0>"
      ]
     },
     "metadata": {},
     "output_type": "display_data"
    }
   ],
   "source": [
    "sns.jointplot('ReviewCounts','Likes',data=df)"
   ]
  },
  {
   "cell_type": "markdown",
   "metadata": {},
   "source": [
    "- Positive correlation, but still many themes don't have reviews.\n",
    "- Neither review counts nor average rating may not be a good measure for preference."
   ]
  },
  {
   "cell_type": "markdown",
   "metadata": {},
   "source": [
    "<a id='2-3'></a>\n",
    "###3. Number of views vs. number of likes"
   ]
  },
  {
   "cell_type": "code",
   "execution_count": 11,
   "metadata": {
    "collapsed": false
   },
   "outputs": [
    {
     "data": {
      "text/plain": [
       "<seaborn.axisgrid.FacetGrid at 0x10d169850>"
      ]
     },
     "execution_count": 11,
     "metadata": {},
     "output_type": "execute_result"
    },
    {
     "data": {
      "image/png": "[encoded data removed]",
      "text/plain": [
       "<matplotlib.figure.Figure at 0x10d169ed0>"
      ]
     },
     "metadata": {},
     "output_type": "display_data"
    },
    {
     "data": {
      "image/png": "[encoded data removed]",
      "text/plain": [
       "<matplotlib.figure.Figure at 0x116a18b90>"
      ]
     },
     "metadata": {},
     "output_type": "display_data"
    }
   ],
   "source": [
    "# Scatter plot\n",
    "sns.jointplot('Views','Likes',data=df)\n",
    "# Linear regression\n",
    "sns.lmplot(\"Views\", \"Likes\", data=df)"
   ]
  },
  {
   "cell_type": "markdown",
   "metadata": {},
   "source": [
    "- Positive (linear) correlation between the two\n",
    "- \"Like\" is a more active representation of preference than \"view.\"\n",
    "- <font color='blue'>Likes seem to be a good measure of preference</font>"
   ]
  },
  {
   "cell_type": "markdown",
   "metadata": {},
   "source": [
    "<a id='3'></a>\n",
    "##III. Likes as user preference\n",
    "<a id='3-1'></a>\n",
    "###1. Likes distribution"
   ]
  },
  {
   "cell_type": "code",
   "execution_count": 14,
   "metadata": {
    "collapsed": false
   },
   "outputs": [
    {
     "name": "stdout",
     "output_type": "stream",
     "text": [
      "median Likes: 108.0\n",
      "mean Likes: 224.492800649\n",
      "mode Likes: (array([ 86.]), array([ 183.]))\n"
     ]
    },
    {
     "data": {
      "image/png": "[encoded data removed]",
      "text/plain": [
       "<matplotlib.figure.Figure at 0x1128be650>"
      ]
     },
     "metadata": {},
     "output_type": "display_data"
    }
   ],
   "source": [
    "# Detailed look of the distribution of Likes\n",
    "print 'median Likes: '+str(np.median(df.Likes))\n",
    "print 'mean Likes: '+ str(np.mean(df.Likes))\n",
    "print 'mode Likes: '+ str(sp.stats.mstats.mode(df.Likes))\n",
    "plt.hist(df.Likes,bins=100)\n",
    "plt.xlabel('Likes')\n",
    "plt.show()"
   ]
  },
  {
   "cell_type": "markdown",
   "metadata": {},
   "source": [
    "- The distribution has a long tail. Very few are extremely popular."
   ]
  },
  {
   "cell_type": "markdown",
   "metadata": {},
   "source": [
    "<a id='3-2'></a>\n",
    "###2. Average number of likes per year"
   ]
  },
  {
   "cell_type": "code",
   "execution_count": 15,
   "metadata": {
    "collapsed": false
   },
   "outputs": [
    {
     "data": {
      "image/png": "[encoded data removed]",
      "text/plain": [
       "<matplotlib.figure.Figure at 0x11287dcd0>"
      ]
     },
     "metadata": {},
     "output_type": "display_data"
    }
   ],
   "source": [
    "# group df per year\n",
    "grouped_Year = df.groupby('Year')\n",
    "# compute the mean of likes for each groupby\n",
    "grouped_Year.agg(np.mean).Likes\n",
    "# get year index \n",
    "index = np.arange(len(grouped_Year.size()))\n",
    "# draw figure\n",
    "bar_width = 0.8\n",
    "opacity = 0.4\n",
    "rects = plt.bar(index, grouped_Year.agg(np.mean).Likes, bar_width, \n",
    "                alpha=opacity, \n",
    "                color='b', \n",
    "                yerr=grouped_Year.agg(np.std).Likes/np.sqrt(grouped_Year.size()),\n",
    "                ecolor='b')\n",
    "# labels\n",
    "plt.xlabel('Year')\n",
    "plt.ylabel('Average likes per scheme')\n",
    "plt.xticks(index + bar_width/2, sorted(df.Year.unique()))\n",
    "plt.title('Average likes per year')\n",
    "\n",
    "plt.tight_layout()\n",
    "plt.show()"
   ]
  },
  {
   "cell_type": "markdown",
   "metadata": {},
   "source": [
    "- Except for 2006, the average number of likes does not vary much. \n",
    "- Extremely popular ones were uploaded in 2006."
   ]
  },
  {
   "cell_type": "code",
   "execution_count": null,
   "metadata": {
    "collapsed": true
   },
   "outputs": [],
   "source": []
  }
 ],
 "metadata": {
  "kernelspec": {
   "display_name": "Python 2",
   "language": "python",
   "name": "python2"
  },
  "language_info": {
   "codemirror_mode": {
    "name": "ipython",
    "version": 2
   },
   "file_extension": ".py",
   "mimetype": "text/x-python",
   "name": "python",
   "nbconvert_exporter": "python",
   "pygments_lexer": "ipython2",
   "version": "2.7.10"
  }
 },
 "nbformat": 4,
 "nbformat_minor": 0
}
